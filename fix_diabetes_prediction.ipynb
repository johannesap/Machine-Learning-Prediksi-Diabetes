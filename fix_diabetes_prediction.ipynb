{
  "cells": [
    {
      "cell_type": "markdown",
      "id": "vVlCmWisSrnh",
      "metadata": {
        "id": "vVlCmWisSrnh"
      },
      "source": [
        "## LATAR BELAKANG\n",
        "\n",
        "### diabetes adalah penyakit yang disebabkan kelebihan gula didalam darah atau bisa juga disebabkan oleh fakotr keturunan, banyak sekali orang yang kurang memperhatikan konidisi tubuhnya atau cek up mengenai kesehatannya, juga kurangnya orang yang memperhatikan pola hidup sehat, seperti seringnya memakan makanan yang mengandung banyak gula, atau meminum minuman yang mengandung alkohol atau pemanis buatan, serta jarangnya melakukan olahraga.\n",
        "\n",
        "### nah, dengan pola hidup yang tidak sehat serta banyak orang yang tidak melakukan cek up kesehatan, saya disini ingin melakukan prediksi diabetes dengan menggunakan contoh dataset yang kami ambil dari kaggle."
      ]
    },
    {
      "cell_type": "markdown",
      "id": "y--0ALbQbmFZ",
      "metadata": {
        "id": "y--0ALbQbmFZ"
      },
      "source": [
        "## selanjutnya saya ingin menjelaskan kolom apa saja yang ada di dalam dataset:\n",
        "\n",
        "###1. gender = jenis kelamin\n",
        "###2. age = usia/umur\n",
        "###3. hypertension = tekanan darah tinggi. 1(iya) atau 0(tidak)\n",
        "###4. heart_disease = riwayat penyakit jantung. 1(iya) atau 0(tidak)\n",
        "###5. smoking_story = riwayat merokok\n",
        "###6. bmi = body mass index atau menunjukan bahwa kelebihan berat badan untuk menjadi berat badan yang ideal.\n",
        "###7. HbA1c_level = hemoglobin level\n",
        "###8. blood_glocose_level = gula darah\n",
        "###9. diabetes = 1 (menunjukan terkena diabetes) atau 0 (tidak terkena diabetes)"
      ]
    },
    {
      "cell_type": "markdown",
      "id": "M5Itw5t-dne0",
      "metadata": {
        "id": "M5Itw5t-dne0"
      },
      "source": [
        "##TUJUAN\n",
        "\n",
        "###1. apa saja faktor yang menyebabkan penyakit diabetes?\n",
        "###2. apakah orang yang memiliki kelebihan berat badan pasti terkena diabetes?\n",
        "###3. apakah orang yang memiliki gula darah yang tinggi pasti terkena diabetes?\n",
        "\n",
        "###tujuan utama dari permasalahan ini kami ingin memprediksi penyakit diabetes pada seseorang bedasarkan dataset tersebut. perlu diingat bahwa hasil tersebut belum tentu 100% benar atau mungkin hanya mendekati saja.\n",
        "\n",
        "###Saya disini akan membuat sebuah klasifikasi yaitu yang terkena diabetes (1) dan yang tidak diabetes (0)"
      ]
    },
    {
      "cell_type": "markdown",
      "id": "b9d4add5",
      "metadata": {
        "id": "b9d4add5",
        "papermill": {
          "duration": 0.006228,
          "end_time": "2023-06-13T04:38:24.873778",
          "exception": false,
          "start_time": "2023-06-13T04:38:24.867550",
          "status": "completed"
        },
        "tags": []
      },
      "source": [
        "## 1. Importing Libraries"
      ]
    },
    {
      "cell_type": "code",
      "execution_count": 1,
      "id": "6a5c4c7b",
      "metadata": {
        "_cell_guid": "b1076dfc-b9ad-4769-8c92-a6c4dae69d19",
        "_uuid": "8f2839f25d086af736a60e9eeb907d3b93b6e0e5",
        "execution": {
          "iopub.execute_input": "2023-06-13T04:38:24.889318Z",
          "iopub.status.busy": "2023-06-13T04:38:24.888765Z",
          "iopub.status.idle": "2023-06-13T04:38:26.364746Z",
          "shell.execute_reply": "2023-06-13T04:38:26.363611Z"
        },
        "id": "6a5c4c7b",
        "papermill": {
          "duration": 1.488446,
          "end_time": "2023-06-13T04:38:26.367887",
          "exception": false,
          "start_time": "2023-06-13T04:38:24.879441",
          "status": "completed"
        },
        "tags": []
      },
      "outputs": [],
      "source": [
        "import numpy as np\n",
        "import pandas as pd\n",
        "import seaborn as sns\n",
        "import matplotlib.pyplot as plt\n",
        "import missingno as msno\n",
        "import sklearn\n",
        "\n"
      ]
    },
    {
      "cell_type": "markdown",
      "id": "hsMjF-rt2W2y",
      "metadata": {
        "id": "hsMjF-rt2W2y"
      },
      "source": [
        "## 2. Eksplorasi Dataset"
      ]
    },
    {
      "cell_type": "code",
      "execution_count": 2,
      "id": "750bc937",
      "metadata": {
        "colab": {
          "base_uri": "https://localhost:8080/",
          "height": 206
        },
        "execution": {
          "iopub.execute_input": "2023-06-13T04:38:26.381744Z",
          "iopub.status.busy": "2023-06-13T04:38:26.381365Z",
          "iopub.status.idle": "2023-06-13T04:38:26.537448Z",
          "shell.execute_reply": "2023-06-13T04:38:26.536382Z"
        },
        "id": "750bc937",
        "outputId": "9074eb4c-f089-4fb8-f902-205ae0e3b59e",
        "papermill": {
          "duration": 0.165772,
          "end_time": "2023-06-13T04:38:26.539795",
          "exception": false,
          "start_time": "2023-06-13T04:38:26.374023",
          "status": "completed"
        },
        "tags": []
      },
      "outputs": [
        {
          "output_type": "execute_result",
          "data": {
            "text/plain": [
              "   gender   age  hypertension  heart_disease smoking_history    bmi  \\\n",
              "0  Female  80.0             0              1           never  25.19   \n",
              "1  Female  54.0             0              0         No Info  27.32   \n",
              "2    Male  28.0             0              0           never  27.32   \n",
              "3  Female  36.0             0              0         current  23.45   \n",
              "4    Male  76.0             1              1         current  20.14   \n",
              "\n",
              "   HbA1c_level  blood_glucose_level  diabetes  \n",
              "0          6.6                  140         0  \n",
              "1          6.6                   80         0  \n",
              "2          5.7                  158         0  \n",
              "3          5.0                  155         0  \n",
              "4          4.8                  155         0  "
            ],
            "text/html": [
              "\n",
              "  <div id=\"df-9348e3d5-ac21-49c8-85cd-eef6f84e04d0\" class=\"colab-df-container\">\n",
              "    <div>\n",
              "<style scoped>\n",
              "    .dataframe tbody tr th:only-of-type {\n",
              "        vertical-align: middle;\n",
              "    }\n",
              "\n",
              "    .dataframe tbody tr th {\n",
              "        vertical-align: top;\n",
              "    }\n",
              "\n",
              "    .dataframe thead th {\n",
              "        text-align: right;\n",
              "    }\n",
              "</style>\n",
              "<table border=\"1\" class=\"dataframe\">\n",
              "  <thead>\n",
              "    <tr style=\"text-align: right;\">\n",
              "      <th></th>\n",
              "      <th>gender</th>\n",
              "      <th>age</th>\n",
              "      <th>hypertension</th>\n",
              "      <th>heart_disease</th>\n",
              "      <th>smoking_history</th>\n",
              "      <th>bmi</th>\n",
              "      <th>HbA1c_level</th>\n",
              "      <th>blood_glucose_level</th>\n",
              "      <th>diabetes</th>\n",
              "    </tr>\n",
              "  </thead>\n",
              "  <tbody>\n",
              "    <tr>\n",
              "      <th>0</th>\n",
              "      <td>Female</td>\n",
              "      <td>80.0</td>\n",
              "      <td>0</td>\n",
              "      <td>1</td>\n",
              "      <td>never</td>\n",
              "      <td>25.19</td>\n",
              "      <td>6.6</td>\n",
              "      <td>140</td>\n",
              "      <td>0</td>\n",
              "    </tr>\n",
              "    <tr>\n",
              "      <th>1</th>\n",
              "      <td>Female</td>\n",
              "      <td>54.0</td>\n",
              "      <td>0</td>\n",
              "      <td>0</td>\n",
              "      <td>No Info</td>\n",
              "      <td>27.32</td>\n",
              "      <td>6.6</td>\n",
              "      <td>80</td>\n",
              "      <td>0</td>\n",
              "    </tr>\n",
              "    <tr>\n",
              "      <th>2</th>\n",
              "      <td>Male</td>\n",
              "      <td>28.0</td>\n",
              "      <td>0</td>\n",
              "      <td>0</td>\n",
              "      <td>never</td>\n",
              "      <td>27.32</td>\n",
              "      <td>5.7</td>\n",
              "      <td>158</td>\n",
              "      <td>0</td>\n",
              "    </tr>\n",
              "    <tr>\n",
              "      <th>3</th>\n",
              "      <td>Female</td>\n",
              "      <td>36.0</td>\n",
              "      <td>0</td>\n",
              "      <td>0</td>\n",
              "      <td>current</td>\n",
              "      <td>23.45</td>\n",
              "      <td>5.0</td>\n",
              "      <td>155</td>\n",
              "      <td>0</td>\n",
              "    </tr>\n",
              "    <tr>\n",
              "      <th>4</th>\n",
              "      <td>Male</td>\n",
              "      <td>76.0</td>\n",
              "      <td>1</td>\n",
              "      <td>1</td>\n",
              "      <td>current</td>\n",
              "      <td>20.14</td>\n",
              "      <td>4.8</td>\n",
              "      <td>155</td>\n",
              "      <td>0</td>\n",
              "    </tr>\n",
              "  </tbody>\n",
              "</table>\n",
              "</div>\n",
              "    <div class=\"colab-df-buttons\">\n",
              "\n",
              "  <div class=\"colab-df-container\">\n",
              "    <button class=\"colab-df-convert\" onclick=\"convertToInteractive('df-9348e3d5-ac21-49c8-85cd-eef6f84e04d0')\"\n",
              "            title=\"Convert this dataframe to an interactive table.\"\n",
              "            style=\"display:none;\">\n",
              "\n",
              "  <svg xmlns=\"http://www.w3.org/2000/svg\" height=\"24px\" viewBox=\"0 -960 960 960\">\n",
              "    <path d=\"M120-120v-720h720v720H120Zm60-500h600v-160H180v160Zm220 220h160v-160H400v160Zm0 220h160v-160H400v160ZM180-400h160v-160H180v160Zm440 0h160v-160H620v160ZM180-180h160v-160H180v160Zm440 0h160v-160H620v160Z\"/>\n",
              "  </svg>\n",
              "    </button>\n",
              "\n",
              "  <style>\n",
              "    .colab-df-container {\n",
              "      display:flex;\n",
              "      gap: 12px;\n",
              "    }\n",
              "\n",
              "    .colab-df-convert {\n",
              "      background-color: #E8F0FE;\n",
              "      border: none;\n",
              "      border-radius: 50%;\n",
              "      cursor: pointer;\n",
              "      display: none;\n",
              "      fill: #1967D2;\n",
              "      height: 32px;\n",
              "      padding: 0 0 0 0;\n",
              "      width: 32px;\n",
              "    }\n",
              "\n",
              "    .colab-df-convert:hover {\n",
              "      background-color: #E2EBFA;\n",
              "      box-shadow: 0px 1px 2px rgba(60, 64, 67, 0.3), 0px 1px 3px 1px rgba(60, 64, 67, 0.15);\n",
              "      fill: #174EA6;\n",
              "    }\n",
              "\n",
              "    .colab-df-buttons div {\n",
              "      margin-bottom: 4px;\n",
              "    }\n",
              "\n",
              "    [theme=dark] .colab-df-convert {\n",
              "      background-color: #3B4455;\n",
              "      fill: #D2E3FC;\n",
              "    }\n",
              "\n",
              "    [theme=dark] .colab-df-convert:hover {\n",
              "      background-color: #434B5C;\n",
              "      box-shadow: 0px 1px 3px 1px rgba(0, 0, 0, 0.15);\n",
              "      filter: drop-shadow(0px 1px 2px rgba(0, 0, 0, 0.3));\n",
              "      fill: #FFFFFF;\n",
              "    }\n",
              "  </style>\n",
              "\n",
              "    <script>\n",
              "      const buttonEl =\n",
              "        document.querySelector('#df-9348e3d5-ac21-49c8-85cd-eef6f84e04d0 button.colab-df-convert');\n",
              "      buttonEl.style.display =\n",
              "        google.colab.kernel.accessAllowed ? 'block' : 'none';\n",
              "\n",
              "      async function convertToInteractive(key) {\n",
              "        const element = document.querySelector('#df-9348e3d5-ac21-49c8-85cd-eef6f84e04d0');\n",
              "        const dataTable =\n",
              "          await google.colab.kernel.invokeFunction('convertToInteractive',\n",
              "                                                    [key], {});\n",
              "        if (!dataTable) return;\n",
              "\n",
              "        const docLinkHtml = 'Like what you see? Visit the ' +\n",
              "          '<a target=\"_blank\" href=https://colab.research.google.com/notebooks/data_table.ipynb>data table notebook</a>'\n",
              "          + ' to learn more about interactive tables.';\n",
              "        element.innerHTML = '';\n",
              "        dataTable['output_type'] = 'display_data';\n",
              "        await google.colab.output.renderOutput(dataTable, element);\n",
              "        const docLink = document.createElement('div');\n",
              "        docLink.innerHTML = docLinkHtml;\n",
              "        element.appendChild(docLink);\n",
              "      }\n",
              "    </script>\n",
              "  </div>\n",
              "\n",
              "\n",
              "    <div id=\"df-fa4212d4-d086-4bdd-83ef-6a38b7a16752\">\n",
              "      <button class=\"colab-df-quickchart\" onclick=\"quickchart('df-fa4212d4-d086-4bdd-83ef-6a38b7a16752')\"\n",
              "                title=\"Suggest charts\"\n",
              "                style=\"display:none;\">\n",
              "\n",
              "<svg xmlns=\"http://www.w3.org/2000/svg\" height=\"24px\"viewBox=\"0 0 24 24\"\n",
              "     width=\"24px\">\n",
              "    <g>\n",
              "        <path d=\"M19 3H5c-1.1 0-2 .9-2 2v14c0 1.1.9 2 2 2h14c1.1 0 2-.9 2-2V5c0-1.1-.9-2-2-2zM9 17H7v-7h2v7zm4 0h-2V7h2v10zm4 0h-2v-4h2v4z\"/>\n",
              "    </g>\n",
              "</svg>\n",
              "      </button>\n",
              "\n",
              "<style>\n",
              "  .colab-df-quickchart {\n",
              "      --bg-color: #E8F0FE;\n",
              "      --fill-color: #1967D2;\n",
              "      --hover-bg-color: #E2EBFA;\n",
              "      --hover-fill-color: #174EA6;\n",
              "      --disabled-fill-color: #AAA;\n",
              "      --disabled-bg-color: #DDD;\n",
              "  }\n",
              "\n",
              "  [theme=dark] .colab-df-quickchart {\n",
              "      --bg-color: #3B4455;\n",
              "      --fill-color: #D2E3FC;\n",
              "      --hover-bg-color: #434B5C;\n",
              "      --hover-fill-color: #FFFFFF;\n",
              "      --disabled-bg-color: #3B4455;\n",
              "      --disabled-fill-color: #666;\n",
              "  }\n",
              "\n",
              "  .colab-df-quickchart {\n",
              "    background-color: var(--bg-color);\n",
              "    border: none;\n",
              "    border-radius: 50%;\n",
              "    cursor: pointer;\n",
              "    display: none;\n",
              "    fill: var(--fill-color);\n",
              "    height: 32px;\n",
              "    padding: 0;\n",
              "    width: 32px;\n",
              "  }\n",
              "\n",
              "  .colab-df-quickchart:hover {\n",
              "    background-color: var(--hover-bg-color);\n",
              "    box-shadow: 0 1px 2px rgba(60, 64, 67, 0.3), 0 1px 3px 1px rgba(60, 64, 67, 0.15);\n",
              "    fill: var(--button-hover-fill-color);\n",
              "  }\n",
              "\n",
              "  .colab-df-quickchart-complete:disabled,\n",
              "  .colab-df-quickchart-complete:disabled:hover {\n",
              "    background-color: var(--disabled-bg-color);\n",
              "    fill: var(--disabled-fill-color);\n",
              "    box-shadow: none;\n",
              "  }\n",
              "\n",
              "  .colab-df-spinner {\n",
              "    border: 2px solid var(--fill-color);\n",
              "    border-color: transparent;\n",
              "    border-bottom-color: var(--fill-color);\n",
              "    animation:\n",
              "      spin 1s steps(1) infinite;\n",
              "  }\n",
              "\n",
              "  @keyframes spin {\n",
              "    0% {\n",
              "      border-color: transparent;\n",
              "      border-bottom-color: var(--fill-color);\n",
              "      border-left-color: var(--fill-color);\n",
              "    }\n",
              "    20% {\n",
              "      border-color: transparent;\n",
              "      border-left-color: var(--fill-color);\n",
              "      border-top-color: var(--fill-color);\n",
              "    }\n",
              "    30% {\n",
              "      border-color: transparent;\n",
              "      border-left-color: var(--fill-color);\n",
              "      border-top-color: var(--fill-color);\n",
              "      border-right-color: var(--fill-color);\n",
              "    }\n",
              "    40% {\n",
              "      border-color: transparent;\n",
              "      border-right-color: var(--fill-color);\n",
              "      border-top-color: var(--fill-color);\n",
              "    }\n",
              "    60% {\n",
              "      border-color: transparent;\n",
              "      border-right-color: var(--fill-color);\n",
              "    }\n",
              "    80% {\n",
              "      border-color: transparent;\n",
              "      border-right-color: var(--fill-color);\n",
              "      border-bottom-color: var(--fill-color);\n",
              "    }\n",
              "    90% {\n",
              "      border-color: transparent;\n",
              "      border-bottom-color: var(--fill-color);\n",
              "    }\n",
              "  }\n",
              "</style>\n",
              "\n",
              "      <script>\n",
              "        async function quickchart(key) {\n",
              "          const quickchartButtonEl =\n",
              "            document.querySelector('#' + key + ' button');\n",
              "          quickchartButtonEl.disabled = true;  // To prevent multiple clicks.\n",
              "          quickchartButtonEl.classList.add('colab-df-spinner');\n",
              "          try {\n",
              "            const charts = await google.colab.kernel.invokeFunction(\n",
              "                'suggestCharts', [key], {});\n",
              "          } catch (error) {\n",
              "            console.error('Error during call to suggestCharts:', error);\n",
              "          }\n",
              "          quickchartButtonEl.classList.remove('colab-df-spinner');\n",
              "          quickchartButtonEl.classList.add('colab-df-quickchart-complete');\n",
              "        }\n",
              "        (() => {\n",
              "          let quickchartButtonEl =\n",
              "            document.querySelector('#df-fa4212d4-d086-4bdd-83ef-6a38b7a16752 button');\n",
              "          quickchartButtonEl.style.display =\n",
              "            google.colab.kernel.accessAllowed ? 'block' : 'none';\n",
              "        })();\n",
              "      </script>\n",
              "    </div>\n",
              "\n",
              "    </div>\n",
              "  </div>\n"
            ],
            "application/vnd.google.colaboratory.intrinsic+json": {
              "type": "dataframe",
              "variable_name": "df",
              "summary": "{\n  \"name\": \"df\",\n  \"rows\": 100000,\n  \"fields\": [\n    {\n      \"column\": \"gender\",\n      \"properties\": {\n        \"dtype\": \"category\",\n        \"num_unique_values\": 3,\n        \"samples\": [\n          \"Female\",\n          \"Male\",\n          \"Other\"\n        ],\n        \"semantic_type\": \"\",\n        \"description\": \"\"\n      }\n    },\n    {\n      \"column\": \"age\",\n      \"properties\": {\n        \"dtype\": \"number\",\n        \"std\": 22.51683987161513,\n        \"min\": 0.08,\n        \"max\": 80.0,\n        \"num_unique_values\": 102,\n        \"samples\": [\n          29.0,\n          39.0,\n          16.0\n        ],\n        \"semantic_type\": \"\",\n        \"description\": \"\"\n      }\n    },\n    {\n      \"column\": \"hypertension\",\n      \"properties\": {\n        \"dtype\": \"number\",\n        \"std\": 0,\n        \"min\": 0,\n        \"max\": 1,\n        \"num_unique_values\": 2,\n        \"samples\": [\n          1,\n          0\n        ],\n        \"semantic_type\": \"\",\n        \"description\": \"\"\n      }\n    },\n    {\n      \"column\": \"heart_disease\",\n      \"properties\": {\n        \"dtype\": \"number\",\n        \"std\": 0,\n        \"min\": 0,\n        \"max\": 1,\n        \"num_unique_values\": 2,\n        \"samples\": [\n          0,\n          1\n        ],\n        \"semantic_type\": \"\",\n        \"description\": \"\"\n      }\n    },\n    {\n      \"column\": \"smoking_history\",\n      \"properties\": {\n        \"dtype\": \"category\",\n        \"num_unique_values\": 6,\n        \"samples\": [\n          \"never\",\n          \"No Info\"\n        ],\n        \"semantic_type\": \"\",\n        \"description\": \"\"\n      }\n    },\n    {\n      \"column\": \"bmi\",\n      \"properties\": {\n        \"dtype\": \"number\",\n        \"std\": 6.636783416649581,\n        \"min\": 10.01,\n        \"max\": 95.69,\n        \"num_unique_values\": 4247,\n        \"samples\": [\n          53.27,\n          32.33\n        ],\n        \"semantic_type\": \"\",\n        \"description\": \"\"\n      }\n    },\n    {\n      \"column\": \"HbA1c_level\",\n      \"properties\": {\n        \"dtype\": \"number\",\n        \"std\": 1.0706720918832282,\n        \"min\": 3.5,\n        \"max\": 9.0,\n        \"num_unique_values\": 18,\n        \"samples\": [\n          6.6,\n          5.7\n        ],\n        \"semantic_type\": \"\",\n        \"description\": \"\"\n      }\n    },\n    {\n      \"column\": \"blood_glucose_level\",\n      \"properties\": {\n        \"dtype\": \"number\",\n        \"std\": 40,\n        \"min\": 80,\n        \"max\": 300,\n        \"num_unique_values\": 18,\n        \"samples\": [\n          140,\n          80\n        ],\n        \"semantic_type\": \"\",\n        \"description\": \"\"\n      }\n    },\n    {\n      \"column\": \"diabetes\",\n      \"properties\": {\n        \"dtype\": \"number\",\n        \"std\": 0,\n        \"min\": 0,\n        \"max\": 1,\n        \"num_unique_values\": 2,\n        \"samples\": [\n          1,\n          0\n        ],\n        \"semantic_type\": \"\",\n        \"description\": \"\"\n      }\n    }\n  ]\n}"
            }
          },
          "metadata": {},
          "execution_count": 2
        }
      ],
      "source": [
        "df = pd.read_csv(\"diabetes_prediction_dataset.csv\")\n",
        "df.head()"
      ]
    },
    {
      "cell_type": "markdown",
      "id": "dH5KJqzuhMSm",
      "metadata": {
        "id": "dH5KJqzuhMSm"
      },
      "source": [
        "### Informasi pada data:\n",
        "\n",
        "- Terdapat kolom gender & riwayat kesehatan pasien\n",
        "- Terdapat kolom diabetes (yang akan digunakan sebagai dependen variabel) atau hasil dari prediksi"
      ]
    },
    {
      "cell_type": "markdown",
      "id": "ceeb2ff4",
      "metadata": {
        "id": "ceeb2ff4",
        "papermill": {
          "duration": 0.00753,
          "end_time": "2023-06-13T04:38:26.553585",
          "exception": false,
          "start_time": "2023-06-13T04:38:26.546055",
          "status": "completed"
        },
        "tags": []
      },
      "source": [
        "### langkah selanjutnya adalah mengecek apakah ada kolom yang NaN(tidak ada isinya)"
      ]
    },
    {
      "cell_type": "code",
      "execution_count": 3,
      "id": "mBNlXqnSiMVE",
      "metadata": {
        "colab": {
          "base_uri": "https://localhost:8080/"
        },
        "id": "mBNlXqnSiMVE",
        "outputId": "c88e08fe-91e1-42ca-a3b8-73c550f0b23d"
      },
      "outputs": [
        {
          "output_type": "stream",
          "name": "stdout",
          "text": [
            "Shape data (baris, kolom):(100000, 9)\n",
            "<class 'pandas.core.frame.DataFrame'>\n",
            "RangeIndex: 100000 entries, 0 to 99999\n",
            "Data columns (total 9 columns):\n",
            " #   Column               Non-Null Count   Dtype  \n",
            "---  ------               --------------   -----  \n",
            " 0   gender               100000 non-null  object \n",
            " 1   age                  100000 non-null  float64\n",
            " 2   hypertension         100000 non-null  int64  \n",
            " 3   heart_disease        100000 non-null  int64  \n",
            " 4   smoking_history      100000 non-null  object \n",
            " 5   bmi                  100000 non-null  float64\n",
            " 6   HbA1c_level          100000 non-null  float64\n",
            " 7   blood_glucose_level  100000 non-null  int64  \n",
            " 8   diabetes             100000 non-null  int64  \n",
            "dtypes: float64(3), int64(4), object(2)\n",
            "memory usage: 6.9+ MB\n",
            "None\n"
          ]
        }
      ],
      "source": [
        "print(\"Shape data (baris, kolom):\" + str(df.shape))\n",
        "print(df.info())"
      ]
    },
    {
      "cell_type": "markdown",
      "id": "2qB9E-S3nwTk",
      "metadata": {
        "id": "2qB9E-S3nwTk"
      },
      "source": [
        "Informasi pada data :\n",
        "\n",
        "- Ada 100000 entri data\n",
        "- Tidak ada kolom yang NaN (tidak ada isinya)\n",
        "- Terdapat 3 jenis tipe data seperti int64, object, dan float64"
      ]
    },
    {
      "cell_type": "code",
      "execution_count": 4,
      "id": "2f3fb714",
      "metadata": {
        "colab": {
          "base_uri": "https://localhost:8080/"
        },
        "execution": {
          "iopub.execute_input": "2023-06-13T04:38:26.567429Z",
          "iopub.status.busy": "2023-06-13T04:38:26.567011Z",
          "iopub.status.idle": "2023-06-13T04:38:26.575383Z",
          "shell.execute_reply": "2023-06-13T04:38:26.574013Z"
        },
        "id": "2f3fb714",
        "outputId": "583ecc90-6c4d-430f-9e39-5c04d2f53367",
        "papermill": {
          "duration": 0.017967,
          "end_time": "2023-06-13T04:38:26.577538",
          "exception": false,
          "start_time": "2023-06-13T04:38:26.559571",
          "status": "completed"
        },
        "tags": []
      },
      "outputs": [
        {
          "output_type": "execute_result",
          "data": {
            "text/plain": [
              "(100000, 9)"
            ]
          },
          "metadata": {},
          "execution_count": 4
        }
      ],
      "source": [
        "df.shape"
      ]
    },
    {
      "cell_type": "markdown",
      "source": [
        "Diketahui bahwa dataset tersebut berisi 100000 baris dan 9 kolom"
      ],
      "metadata": {
        "id": "2UaMK_yo1-Fl"
      },
      "id": "2UaMK_yo1-Fl"
    },
    {
      "cell_type": "code",
      "execution_count": 5,
      "id": "a24ee167",
      "metadata": {
        "colab": {
          "base_uri": "https://localhost:8080/",
          "height": 366
        },
        "execution": {
          "iopub.execute_input": "2023-06-13T04:38:26.591445Z",
          "iopub.status.busy": "2023-06-13T04:38:26.591082Z",
          "iopub.status.idle": "2023-06-13T04:38:26.628186Z",
          "shell.execute_reply": "2023-06-13T04:38:26.626794Z"
        },
        "id": "a24ee167",
        "outputId": "e306df12-c47e-4fcd-d9df-02b0074bf26a",
        "papermill": {
          "duration": 0.046603,
          "end_time": "2023-06-13T04:38:26.630372",
          "exception": false,
          "start_time": "2023-06-13T04:38:26.583769",
          "status": "completed"
        },
        "tags": []
      },
      "outputs": [
        {
          "output_type": "execute_result",
          "data": {
            "text/plain": [
              "gender                 0\n",
              "age                    0\n",
              "hypertension           0\n",
              "heart_disease          0\n",
              "smoking_history        0\n",
              "bmi                    0\n",
              "HbA1c_level            0\n",
              "blood_glucose_level    0\n",
              "diabetes               0\n",
              "dtype: int64"
            ],
            "text/html": [
              "<div>\n",
              "<style scoped>\n",
              "    .dataframe tbody tr th:only-of-type {\n",
              "        vertical-align: middle;\n",
              "    }\n",
              "\n",
              "    .dataframe tbody tr th {\n",
              "        vertical-align: top;\n",
              "    }\n",
              "\n",
              "    .dataframe thead th {\n",
              "        text-align: right;\n",
              "    }\n",
              "</style>\n",
              "<table border=\"1\" class=\"dataframe\">\n",
              "  <thead>\n",
              "    <tr style=\"text-align: right;\">\n",
              "      <th></th>\n",
              "      <th>0</th>\n",
              "    </tr>\n",
              "  </thead>\n",
              "  <tbody>\n",
              "    <tr>\n",
              "      <th>gender</th>\n",
              "      <td>0</td>\n",
              "    </tr>\n",
              "    <tr>\n",
              "      <th>age</th>\n",
              "      <td>0</td>\n",
              "    </tr>\n",
              "    <tr>\n",
              "      <th>hypertension</th>\n",
              "      <td>0</td>\n",
              "    </tr>\n",
              "    <tr>\n",
              "      <th>heart_disease</th>\n",
              "      <td>0</td>\n",
              "    </tr>\n",
              "    <tr>\n",
              "      <th>smoking_history</th>\n",
              "      <td>0</td>\n",
              "    </tr>\n",
              "    <tr>\n",
              "      <th>bmi</th>\n",
              "      <td>0</td>\n",
              "    </tr>\n",
              "    <tr>\n",
              "      <th>HbA1c_level</th>\n",
              "      <td>0</td>\n",
              "    </tr>\n",
              "    <tr>\n",
              "      <th>blood_glucose_level</th>\n",
              "      <td>0</td>\n",
              "    </tr>\n",
              "    <tr>\n",
              "      <th>diabetes</th>\n",
              "      <td>0</td>\n",
              "    </tr>\n",
              "  </tbody>\n",
              "</table>\n",
              "</div><br><label><b>dtype:</b> int64</label>"
            ]
          },
          "metadata": {},
          "execution_count": 5
        }
      ],
      "source": [
        "df.isnull().sum()"
      ]
    },
    {
      "cell_type": "code",
      "execution_count": 6,
      "id": "a49ec599",
      "metadata": {
        "colab": {
          "base_uri": "https://localhost:8080/",
          "height": 300
        },
        "execution": {
          "iopub.execute_input": "2023-06-13T04:38:26.644711Z",
          "iopub.status.busy": "2023-06-13T04:38:26.644367Z",
          "iopub.status.idle": "2023-06-13T04:38:26.693141Z",
          "shell.execute_reply": "2023-06-13T04:38:26.692006Z"
        },
        "id": "a49ec599",
        "outputId": "38b1cc1e-558f-47b4-ee1e-50d582ed0373",
        "papermill": {
          "duration": 0.058506,
          "end_time": "2023-06-13T04:38:26.695209",
          "exception": false,
          "start_time": "2023-06-13T04:38:26.636703",
          "status": "completed"
        },
        "tags": []
      },
      "outputs": [
        {
          "output_type": "execute_result",
          "data": {
            "text/plain": [
              "                 age  hypertension  heart_disease            bmi  \\\n",
              "count  100000.000000  100000.00000  100000.000000  100000.000000   \n",
              "mean       41.885856       0.07485       0.039420      27.320767   \n",
              "std        22.516840       0.26315       0.194593       6.636783   \n",
              "min         0.080000       0.00000       0.000000      10.010000   \n",
              "25%        24.000000       0.00000       0.000000      23.630000   \n",
              "50%        43.000000       0.00000       0.000000      27.320000   \n",
              "75%        60.000000       0.00000       0.000000      29.580000   \n",
              "max        80.000000       1.00000       1.000000      95.690000   \n",
              "\n",
              "         HbA1c_level  blood_glucose_level       diabetes  \n",
              "count  100000.000000        100000.000000  100000.000000  \n",
              "mean        5.527507           138.058060       0.085000  \n",
              "std         1.070672            40.708136       0.278883  \n",
              "min         3.500000            80.000000       0.000000  \n",
              "25%         4.800000           100.000000       0.000000  \n",
              "50%         5.800000           140.000000       0.000000  \n",
              "75%         6.200000           159.000000       0.000000  \n",
              "max         9.000000           300.000000       1.000000  "
            ],
            "text/html": [
              "\n",
              "  <div id=\"df-5a85f1c2-7687-4b7c-86f1-da35ae533164\" class=\"colab-df-container\">\n",
              "    <div>\n",
              "<style scoped>\n",
              "    .dataframe tbody tr th:only-of-type {\n",
              "        vertical-align: middle;\n",
              "    }\n",
              "\n",
              "    .dataframe tbody tr th {\n",
              "        vertical-align: top;\n",
              "    }\n",
              "\n",
              "    .dataframe thead th {\n",
              "        text-align: right;\n",
              "    }\n",
              "</style>\n",
              "<table border=\"1\" class=\"dataframe\">\n",
              "  <thead>\n",
              "    <tr style=\"text-align: right;\">\n",
              "      <th></th>\n",
              "      <th>age</th>\n",
              "      <th>hypertension</th>\n",
              "      <th>heart_disease</th>\n",
              "      <th>bmi</th>\n",
              "      <th>HbA1c_level</th>\n",
              "      <th>blood_glucose_level</th>\n",
              "      <th>diabetes</th>\n",
              "    </tr>\n",
              "  </thead>\n",
              "  <tbody>\n",
              "    <tr>\n",
              "      <th>count</th>\n",
              "      <td>100000.000000</td>\n",
              "      <td>100000.00000</td>\n",
              "      <td>100000.000000</td>\n",
              "      <td>100000.000000</td>\n",
              "      <td>100000.000000</td>\n",
              "      <td>100000.000000</td>\n",
              "      <td>100000.000000</td>\n",
              "    </tr>\n",
              "    <tr>\n",
              "      <th>mean</th>\n",
              "      <td>41.885856</td>\n",
              "      <td>0.07485</td>\n",
              "      <td>0.039420</td>\n",
              "      <td>27.320767</td>\n",
              "      <td>5.527507</td>\n",
              "      <td>138.058060</td>\n",
              "      <td>0.085000</td>\n",
              "    </tr>\n",
              "    <tr>\n",
              "      <th>std</th>\n",
              "      <td>22.516840</td>\n",
              "      <td>0.26315</td>\n",
              "      <td>0.194593</td>\n",
              "      <td>6.636783</td>\n",
              "      <td>1.070672</td>\n",
              "      <td>40.708136</td>\n",
              "      <td>0.278883</td>\n",
              "    </tr>\n",
              "    <tr>\n",
              "      <th>min</th>\n",
              "      <td>0.080000</td>\n",
              "      <td>0.00000</td>\n",
              "      <td>0.000000</td>\n",
              "      <td>10.010000</td>\n",
              "      <td>3.500000</td>\n",
              "      <td>80.000000</td>\n",
              "      <td>0.000000</td>\n",
              "    </tr>\n",
              "    <tr>\n",
              "      <th>25%</th>\n",
              "      <td>24.000000</td>\n",
              "      <td>0.00000</td>\n",
              "      <td>0.000000</td>\n",
              "      <td>23.630000</td>\n",
              "      <td>4.800000</td>\n",
              "      <td>100.000000</td>\n",
              "      <td>0.000000</td>\n",
              "    </tr>\n",
              "    <tr>\n",
              "      <th>50%</th>\n",
              "      <td>43.000000</td>\n",
              "      <td>0.00000</td>\n",
              "      <td>0.000000</td>\n",
              "      <td>27.320000</td>\n",
              "      <td>5.800000</td>\n",
              "      <td>140.000000</td>\n",
              "      <td>0.000000</td>\n",
              "    </tr>\n",
              "    <tr>\n",
              "      <th>75%</th>\n",
              "      <td>60.000000</td>\n",
              "      <td>0.00000</td>\n",
              "      <td>0.000000</td>\n",
              "      <td>29.580000</td>\n",
              "      <td>6.200000</td>\n",
              "      <td>159.000000</td>\n",
              "      <td>0.000000</td>\n",
              "    </tr>\n",
              "    <tr>\n",
              "      <th>max</th>\n",
              "      <td>80.000000</td>\n",
              "      <td>1.00000</td>\n",
              "      <td>1.000000</td>\n",
              "      <td>95.690000</td>\n",
              "      <td>9.000000</td>\n",
              "      <td>300.000000</td>\n",
              "      <td>1.000000</td>\n",
              "    </tr>\n",
              "  </tbody>\n",
              "</table>\n",
              "</div>\n",
              "    <div class=\"colab-df-buttons\">\n",
              "\n",
              "  <div class=\"colab-df-container\">\n",
              "    <button class=\"colab-df-convert\" onclick=\"convertToInteractive('df-5a85f1c2-7687-4b7c-86f1-da35ae533164')\"\n",
              "            title=\"Convert this dataframe to an interactive table.\"\n",
              "            style=\"display:none;\">\n",
              "\n",
              "  <svg xmlns=\"http://www.w3.org/2000/svg\" height=\"24px\" viewBox=\"0 -960 960 960\">\n",
              "    <path d=\"M120-120v-720h720v720H120Zm60-500h600v-160H180v160Zm220 220h160v-160H400v160Zm0 220h160v-160H400v160ZM180-400h160v-160H180v160Zm440 0h160v-160H620v160ZM180-180h160v-160H180v160Zm440 0h160v-160H620v160Z\"/>\n",
              "  </svg>\n",
              "    </button>\n",
              "\n",
              "  <style>\n",
              "    .colab-df-container {\n",
              "      display:flex;\n",
              "      gap: 12px;\n",
              "    }\n",
              "\n",
              "    .colab-df-convert {\n",
              "      background-color: #E8F0FE;\n",
              "      border: none;\n",
              "      border-radius: 50%;\n",
              "      cursor: pointer;\n",
              "      display: none;\n",
              "      fill: #1967D2;\n",
              "      height: 32px;\n",
              "      padding: 0 0 0 0;\n",
              "      width: 32px;\n",
              "    }\n",
              "\n",
              "    .colab-df-convert:hover {\n",
              "      background-color: #E2EBFA;\n",
              "      box-shadow: 0px 1px 2px rgba(60, 64, 67, 0.3), 0px 1px 3px 1px rgba(60, 64, 67, 0.15);\n",
              "      fill: #174EA6;\n",
              "    }\n",
              "\n",
              "    .colab-df-buttons div {\n",
              "      margin-bottom: 4px;\n",
              "    }\n",
              "\n",
              "    [theme=dark] .colab-df-convert {\n",
              "      background-color: #3B4455;\n",
              "      fill: #D2E3FC;\n",
              "    }\n",
              "\n",
              "    [theme=dark] .colab-df-convert:hover {\n",
              "      background-color: #434B5C;\n",
              "      box-shadow: 0px 1px 3px 1px rgba(0, 0, 0, 0.15);\n",
              "      filter: drop-shadow(0px 1px 2px rgba(0, 0, 0, 0.3));\n",
              "      fill: #FFFFFF;\n",
              "    }\n",
              "  </style>\n",
              "\n",
              "    <script>\n",
              "      const buttonEl =\n",
              "        document.querySelector('#df-5a85f1c2-7687-4b7c-86f1-da35ae533164 button.colab-df-convert');\n",
              "      buttonEl.style.display =\n",
              "        google.colab.kernel.accessAllowed ? 'block' : 'none';\n",
              "\n",
              "      async function convertToInteractive(key) {\n",
              "        const element = document.querySelector('#df-5a85f1c2-7687-4b7c-86f1-da35ae533164');\n",
              "        const dataTable =\n",
              "          await google.colab.kernel.invokeFunction('convertToInteractive',\n",
              "                                                    [key], {});\n",
              "        if (!dataTable) return;\n",
              "\n",
              "        const docLinkHtml = 'Like what you see? Visit the ' +\n",
              "          '<a target=\"_blank\" href=https://colab.research.google.com/notebooks/data_table.ipynb>data table notebook</a>'\n",
              "          + ' to learn more about interactive tables.';\n",
              "        element.innerHTML = '';\n",
              "        dataTable['output_type'] = 'display_data';\n",
              "        await google.colab.output.renderOutput(dataTable, element);\n",
              "        const docLink = document.createElement('div');\n",
              "        docLink.innerHTML = docLinkHtml;\n",
              "        element.appendChild(docLink);\n",
              "      }\n",
              "    </script>\n",
              "  </div>\n",
              "\n",
              "\n",
              "    <div id=\"df-f78c2f48-109f-4bdb-b514-e40e823c4169\">\n",
              "      <button class=\"colab-df-quickchart\" onclick=\"quickchart('df-f78c2f48-109f-4bdb-b514-e40e823c4169')\"\n",
              "                title=\"Suggest charts\"\n",
              "                style=\"display:none;\">\n",
              "\n",
              "<svg xmlns=\"http://www.w3.org/2000/svg\" height=\"24px\"viewBox=\"0 0 24 24\"\n",
              "     width=\"24px\">\n",
              "    <g>\n",
              "        <path d=\"M19 3H5c-1.1 0-2 .9-2 2v14c0 1.1.9 2 2 2h14c1.1 0 2-.9 2-2V5c0-1.1-.9-2-2-2zM9 17H7v-7h2v7zm4 0h-2V7h2v10zm4 0h-2v-4h2v4z\"/>\n",
              "    </g>\n",
              "</svg>\n",
              "      </button>\n",
              "\n",
              "<style>\n",
              "  .colab-df-quickchart {\n",
              "      --bg-color: #E8F0FE;\n",
              "      --fill-color: #1967D2;\n",
              "      --hover-bg-color: #E2EBFA;\n",
              "      --hover-fill-color: #174EA6;\n",
              "      --disabled-fill-color: #AAA;\n",
              "      --disabled-bg-color: #DDD;\n",
              "  }\n",
              "\n",
              "  [theme=dark] .colab-df-quickchart {\n",
              "      --bg-color: #3B4455;\n",
              "      --fill-color: #D2E3FC;\n",
              "      --hover-bg-color: #434B5C;\n",
              "      --hover-fill-color: #FFFFFF;\n",
              "      --disabled-bg-color: #3B4455;\n",
              "      --disabled-fill-color: #666;\n",
              "  }\n",
              "\n",
              "  .colab-df-quickchart {\n",
              "    background-color: var(--bg-color);\n",
              "    border: none;\n",
              "    border-radius: 50%;\n",
              "    cursor: pointer;\n",
              "    display: none;\n",
              "    fill: var(--fill-color);\n",
              "    height: 32px;\n",
              "    padding: 0;\n",
              "    width: 32px;\n",
              "  }\n",
              "\n",
              "  .colab-df-quickchart:hover {\n",
              "    background-color: var(--hover-bg-color);\n",
              "    box-shadow: 0 1px 2px rgba(60, 64, 67, 0.3), 0 1px 3px 1px rgba(60, 64, 67, 0.15);\n",
              "    fill: var(--button-hover-fill-color);\n",
              "  }\n",
              "\n",
              "  .colab-df-quickchart-complete:disabled,\n",
              "  .colab-df-quickchart-complete:disabled:hover {\n",
              "    background-color: var(--disabled-bg-color);\n",
              "    fill: var(--disabled-fill-color);\n",
              "    box-shadow: none;\n",
              "  }\n",
              "\n",
              "  .colab-df-spinner {\n",
              "    border: 2px solid var(--fill-color);\n",
              "    border-color: transparent;\n",
              "    border-bottom-color: var(--fill-color);\n",
              "    animation:\n",
              "      spin 1s steps(1) infinite;\n",
              "  }\n",
              "\n",
              "  @keyframes spin {\n",
              "    0% {\n",
              "      border-color: transparent;\n",
              "      border-bottom-color: var(--fill-color);\n",
              "      border-left-color: var(--fill-color);\n",
              "    }\n",
              "    20% {\n",
              "      border-color: transparent;\n",
              "      border-left-color: var(--fill-color);\n",
              "      border-top-color: var(--fill-color);\n",
              "    }\n",
              "    30% {\n",
              "      border-color: transparent;\n",
              "      border-left-color: var(--fill-color);\n",
              "      border-top-color: var(--fill-color);\n",
              "      border-right-color: var(--fill-color);\n",
              "    }\n",
              "    40% {\n",
              "      border-color: transparent;\n",
              "      border-right-color: var(--fill-color);\n",
              "      border-top-color: var(--fill-color);\n",
              "    }\n",
              "    60% {\n",
              "      border-color: transparent;\n",
              "      border-right-color: var(--fill-color);\n",
              "    }\n",
              "    80% {\n",
              "      border-color: transparent;\n",
              "      border-right-color: var(--fill-color);\n",
              "      border-bottom-color: var(--fill-color);\n",
              "    }\n",
              "    90% {\n",
              "      border-color: transparent;\n",
              "      border-bottom-color: var(--fill-color);\n",
              "    }\n",
              "  }\n",
              "</style>\n",
              "\n",
              "      <script>\n",
              "        async function quickchart(key) {\n",
              "          const quickchartButtonEl =\n",
              "            document.querySelector('#' + key + ' button');\n",
              "          quickchartButtonEl.disabled = true;  // To prevent multiple clicks.\n",
              "          quickchartButtonEl.classList.add('colab-df-spinner');\n",
              "          try {\n",
              "            const charts = await google.colab.kernel.invokeFunction(\n",
              "                'suggestCharts', [key], {});\n",
              "          } catch (error) {\n",
              "            console.error('Error during call to suggestCharts:', error);\n",
              "          }\n",
              "          quickchartButtonEl.classList.remove('colab-df-spinner');\n",
              "          quickchartButtonEl.classList.add('colab-df-quickchart-complete');\n",
              "        }\n",
              "        (() => {\n",
              "          let quickchartButtonEl =\n",
              "            document.querySelector('#df-f78c2f48-109f-4bdb-b514-e40e823c4169 button');\n",
              "          quickchartButtonEl.style.display =\n",
              "            google.colab.kernel.accessAllowed ? 'block' : 'none';\n",
              "        })();\n",
              "      </script>\n",
              "    </div>\n",
              "\n",
              "    </div>\n",
              "  </div>\n"
            ],
            "application/vnd.google.colaboratory.intrinsic+json": {
              "type": "dataframe",
              "summary": "{\n  \"name\": \"df\",\n  \"rows\": 8,\n  \"fields\": [\n    {\n      \"column\": \"age\",\n      \"properties\": {\n        \"dtype\": \"number\",\n        \"std\": 35341.635515121445,\n        \"min\": 0.08,\n        \"max\": 100000.0,\n        \"num_unique_values\": 8,\n        \"samples\": [\n          41.885856,\n          43.0,\n          100000.0\n        ],\n        \"semantic_type\": \"\",\n        \"description\": \"\"\n      }\n    },\n    {\n      \"column\": \"hypertension\",\n      \"properties\": {\n        \"dtype\": \"number\",\n        \"std\": 35355.27148175323,\n        \"min\": 0.0,\n        \"max\": 100000.0,\n        \"num_unique_values\": 5,\n        \"samples\": [\n          0.07485,\n          1.0,\n          0.2631504702291422\n        ],\n        \"semantic_type\": \"\",\n        \"description\": \"\"\n      }\n    },\n    {\n      \"column\": \"heart_disease\",\n      \"properties\": {\n        \"dtype\": \"number\",\n        \"std\": 35355.27673391837,\n        \"min\": 0.0,\n        \"max\": 100000.0,\n        \"num_unique_values\": 5,\n        \"samples\": [\n          0.03942,\n          1.0,\n          0.19459301699790674\n        ],\n        \"semantic_type\": \"\",\n        \"description\": \"\"\n      }\n    },\n    {\n      \"column\": \"bmi\",\n      \"properties\": {\n        \"dtype\": \"number\",\n        \"std\": 35344.22862141613,\n        \"min\": 6.636783416649581,\n        \"max\": 100000.0,\n        \"num_unique_values\": 8,\n        \"samples\": [\n          27.3207671,\n          27.32,\n          100000.0\n        ],\n        \"semantic_type\": \"\",\n        \"description\": \"\"\n      }\n    },\n    {\n      \"column\": \"HbA1c_level\",\n      \"properties\": {\n        \"dtype\": \"number\",\n        \"std\": 35353.52600015908,\n        \"min\": 1.0706720918832282,\n        \"max\": 100000.0,\n        \"num_unique_values\": 8,\n        \"samples\": [\n          5.527507,\n          5.8,\n          100000.0\n        ],\n        \"semantic_type\": \"\",\n        \"description\": \"\"\n      }\n    },\n    {\n      \"column\": \"blood_glucose_level\",\n      \"properties\": {\n        \"dtype\": \"number\",\n        \"std\": 35307.04741219372,\n        \"min\": 40.70813604870113,\n        \"max\": 100000.0,\n        \"num_unique_values\": 8,\n        \"samples\": [\n          138.05806,\n          140.0,\n          100000.0\n        ],\n        \"semantic_type\": \"\",\n        \"description\": \"\"\n      }\n    },\n    {\n      \"column\": \"diabetes\",\n      \"properties\": {\n        \"dtype\": \"number\",\n        \"std\": 35355.27017448386,\n        \"min\": 0.0,\n        \"max\": 100000.0,\n        \"num_unique_values\": 5,\n        \"samples\": [\n          0.085,\n          1.0,\n          0.2788830897668124\n        ],\n        \"semantic_type\": \"\",\n        \"description\": \"\"\n      }\n    }\n  ]\n}"
            }
          },
          "metadata": {},
          "execution_count": 6
        }
      ],
      "source": [
        "df.describe()"
      ]
    },
    {
      "cell_type": "markdown",
      "id": "1unS-2L5oHYp",
      "metadata": {
        "id": "1unS-2L5oHYp"
      },
      "source": [
        "### Informasi pada data :\n",
        "\n",
        "- Range kadar gula darah berkisar 80-300\n",
        "- Range HbA1c_level berkisar 3,5-9%"
      ]
    },
    {
      "cell_type": "markdown",
      "id": "chjoy-V_5JWu",
      "metadata": {
        "id": "chjoy-V_5JWu"
      },
      "source": [
        "## Selanjutnya, saya ingin mengroup total unique value pada masing-masing kolom yang non-numerik"
      ]
    },
    {
      "cell_type": "code",
      "execution_count": 7,
      "id": "vlv3WDbTjDMD",
      "metadata": {
        "id": "vlv3WDbTjDMD",
        "colab": {
          "base_uri": "https://localhost:8080/",
          "height": 531
        },
        "outputId": "88188b91-118e-424f-c3ff-855348a19459"
      },
      "outputs": [
        {
          "output_type": "stream",
          "name": "stdout",
          "text": [
            "----------------------------------------gender---------------------------------------- - "
          ]
        },
        {
          "output_type": "display_data",
          "data": {
            "text/plain": [
              "gender\n",
              "Female    58552\n",
              "Male      41430\n",
              "Other        18\n",
              "Name: count, dtype: int64"
            ],
            "text/html": [
              "<div>\n",
              "<style scoped>\n",
              "    .dataframe tbody tr th:only-of-type {\n",
              "        vertical-align: middle;\n",
              "    }\n",
              "\n",
              "    .dataframe tbody tr th {\n",
              "        vertical-align: top;\n",
              "    }\n",
              "\n",
              "    .dataframe thead th {\n",
              "        text-align: right;\n",
              "    }\n",
              "</style>\n",
              "<table border=\"1\" class=\"dataframe\">\n",
              "  <thead>\n",
              "    <tr style=\"text-align: right;\">\n",
              "      <th></th>\n",
              "      <th>count</th>\n",
              "    </tr>\n",
              "    <tr>\n",
              "      <th>gender</th>\n",
              "      <th></th>\n",
              "    </tr>\n",
              "  </thead>\n",
              "  <tbody>\n",
              "    <tr>\n",
              "      <th>Female</th>\n",
              "      <td>58552</td>\n",
              "    </tr>\n",
              "    <tr>\n",
              "      <th>Male</th>\n",
              "      <td>41430</td>\n",
              "    </tr>\n",
              "    <tr>\n",
              "      <th>Other</th>\n",
              "      <td>18</td>\n",
              "    </tr>\n",
              "  </tbody>\n",
              "</table>\n",
              "</div><br><label><b>dtype:</b> int64</label>"
            ]
          },
          "metadata": {}
        },
        {
          "output_type": "stream",
          "name": "stdout",
          "text": [
            "----------------------------------------smoking_history---------------------------------------- - "
          ]
        },
        {
          "output_type": "display_data",
          "data": {
            "text/plain": [
              "smoking_history\n",
              "No Info        35816\n",
              "never          35095\n",
              "former          9352\n",
              "current         9286\n",
              "not current     6447\n",
              "ever            4004\n",
              "Name: count, dtype: int64"
            ],
            "text/html": [
              "<div>\n",
              "<style scoped>\n",
              "    .dataframe tbody tr th:only-of-type {\n",
              "        vertical-align: middle;\n",
              "    }\n",
              "\n",
              "    .dataframe tbody tr th {\n",
              "        vertical-align: top;\n",
              "    }\n",
              "\n",
              "    .dataframe thead th {\n",
              "        text-align: right;\n",
              "    }\n",
              "</style>\n",
              "<table border=\"1\" class=\"dataframe\">\n",
              "  <thead>\n",
              "    <tr style=\"text-align: right;\">\n",
              "      <th></th>\n",
              "      <th>count</th>\n",
              "    </tr>\n",
              "    <tr>\n",
              "      <th>smoking_history</th>\n",
              "      <th></th>\n",
              "    </tr>\n",
              "  </thead>\n",
              "  <tbody>\n",
              "    <tr>\n",
              "      <th>No Info</th>\n",
              "      <td>35816</td>\n",
              "    </tr>\n",
              "    <tr>\n",
              "      <th>never</th>\n",
              "      <td>35095</td>\n",
              "    </tr>\n",
              "    <tr>\n",
              "      <th>former</th>\n",
              "      <td>9352</td>\n",
              "    </tr>\n",
              "    <tr>\n",
              "      <th>current</th>\n",
              "      <td>9286</td>\n",
              "    </tr>\n",
              "    <tr>\n",
              "      <th>not current</th>\n",
              "      <td>6447</td>\n",
              "    </tr>\n",
              "    <tr>\n",
              "      <th>ever</th>\n",
              "      <td>4004</td>\n",
              "    </tr>\n",
              "  </tbody>\n",
              "</table>\n",
              "</div><br><label><b>dtype:</b> int64</label>"
            ]
          },
          "metadata": {}
        }
      ],
      "source": [
        "for col in df.columns:\n",
        "   if df.dtypes[col] != \"object\":\n",
        "       continue\n",
        "   print('-' * 40 + col + '-' * 40 , end=' - ')\n",
        "   display(df[col].value_counts().head(10))"
      ]
    },
    {
      "cell_type": "markdown",
      "id": "KJr6vJ2G5oN5",
      "metadata": {
        "id": "KJr6vJ2G5oN5"
      },
      "source": [
        "### Informasi pada data :\n",
        "\n",
        "- Jumlah gender lebih banyak Wanita daripada Pria.\n",
        "- Disini juga diketahui pada kolom smoking_histori atau riwayat merokok banyak sekali orang yang tidak diketahui informasinya.\n",
        "- Total data orang yang belum pernah merokok lebih banyak dari yang lainnya selain yang tidak diketahui informasinya.\n"
      ]
    },
    {
      "cell_type": "markdown",
      "id": "Aiusfi6rmHtL",
      "metadata": {
        "id": "Aiusfi6rmHtL"
      },
      "source": [
        "## selanjutnya, saya ingin menampilkan hasil dari orang yang menderita diabetes dan yang tidak menderita diabetes"
      ]
    },
    {
      "cell_type": "code",
      "execution_count": 8,
      "id": "5ad8ccfd",
      "metadata": {
        "colab": {
          "base_uri": "https://localhost:8080/",
          "height": 178
        },
        "execution": {
          "iopub.execute_input": "2023-06-13T04:38:26.710405Z",
          "iopub.status.busy": "2023-06-13T04:38:26.710061Z",
          "iopub.status.idle": "2023-06-13T04:38:26.722029Z",
          "shell.execute_reply": "2023-06-13T04:38:26.720552Z"
        },
        "id": "5ad8ccfd",
        "outputId": "bc9d3d9e-3363-4119-ed27-52a2900b1585",
        "papermill": {
          "duration": 0.022679,
          "end_time": "2023-06-13T04:38:26.724619",
          "exception": false,
          "start_time": "2023-06-13T04:38:26.701940",
          "status": "completed"
        },
        "tags": []
      },
      "outputs": [
        {
          "output_type": "execute_result",
          "data": {
            "text/plain": [
              "diabetes\n",
              "0    91500\n",
              "1     8500\n",
              "Name: count, dtype: int64"
            ],
            "text/html": [
              "<div>\n",
              "<style scoped>\n",
              "    .dataframe tbody tr th:only-of-type {\n",
              "        vertical-align: middle;\n",
              "    }\n",
              "\n",
              "    .dataframe tbody tr th {\n",
              "        vertical-align: top;\n",
              "    }\n",
              "\n",
              "    .dataframe thead th {\n",
              "        text-align: right;\n",
              "    }\n",
              "</style>\n",
              "<table border=\"1\" class=\"dataframe\">\n",
              "  <thead>\n",
              "    <tr style=\"text-align: right;\">\n",
              "      <th></th>\n",
              "      <th>count</th>\n",
              "    </tr>\n",
              "    <tr>\n",
              "      <th>diabetes</th>\n",
              "      <th></th>\n",
              "    </tr>\n",
              "  </thead>\n",
              "  <tbody>\n",
              "    <tr>\n",
              "      <th>0</th>\n",
              "      <td>91500</td>\n",
              "    </tr>\n",
              "    <tr>\n",
              "      <th>1</th>\n",
              "      <td>8500</td>\n",
              "    </tr>\n",
              "  </tbody>\n",
              "</table>\n",
              "</div><br><label><b>dtype:</b> int64</label>"
            ]
          },
          "metadata": {},
          "execution_count": 8
        }
      ],
      "source": [
        "df['diabetes'].value_counts()"
      ]
    },
    {
      "cell_type": "markdown",
      "id": "r38lYAp8lZm3",
      "metadata": {
        "id": "r38lYAp8lZm3"
      },
      "source": [
        "### Informansi pada data:\n",
        "\n",
        "- Disini kita dapat melihat bahwa orang yang menderita diabetes sebanyak 8500 orang dan yang tidak menderita diabetes sebanyak 91500 orang"
      ]
    },
    {
      "cell_type": "markdown",
      "id": "OiB8Jsnnmh72",
      "metadata": {
        "id": "OiB8Jsnnmh72"
      },
      "source": [
        "## lalu saya ingin menampilkan orang yg menderita diabetes bedasarkan jenis kelaminnya"
      ]
    },
    {
      "cell_type": "code",
      "execution_count": 9,
      "id": "c4ea1cf7",
      "metadata": {
        "colab": {
          "base_uri": "https://localhost:8080/",
          "height": 210
        },
        "execution": {
          "iopub.execute_input": "2023-06-13T04:38:26.739512Z",
          "iopub.status.busy": "2023-06-13T04:38:26.739136Z",
          "iopub.status.idle": "2023-06-13T04:38:26.761394Z",
          "shell.execute_reply": "2023-06-13T04:38:26.760449Z"
        },
        "id": "c4ea1cf7",
        "outputId": "6b0b83fb-a0e9-4ab7-d2a2-b6b1acb126d8",
        "papermill": {
          "duration": 0.032285,
          "end_time": "2023-06-13T04:38:26.763632",
          "exception": false,
          "start_time": "2023-06-13T04:38:26.731347",
          "status": "completed"
        },
        "tags": []
      },
      "outputs": [
        {
          "output_type": "execute_result",
          "data": {
            "text/plain": [
              "gender\n",
              "Female    4461\n",
              "Male      4039\n",
              "Other        0\n",
              "Name: diabetes, dtype: int64"
            ],
            "text/html": [
              "<div>\n",
              "<style scoped>\n",
              "    .dataframe tbody tr th:only-of-type {\n",
              "        vertical-align: middle;\n",
              "    }\n",
              "\n",
              "    .dataframe tbody tr th {\n",
              "        vertical-align: top;\n",
              "    }\n",
              "\n",
              "    .dataframe thead th {\n",
              "        text-align: right;\n",
              "    }\n",
              "</style>\n",
              "<table border=\"1\" class=\"dataframe\">\n",
              "  <thead>\n",
              "    <tr style=\"text-align: right;\">\n",
              "      <th></th>\n",
              "      <th>diabetes</th>\n",
              "    </tr>\n",
              "    <tr>\n",
              "      <th>gender</th>\n",
              "      <th></th>\n",
              "    </tr>\n",
              "  </thead>\n",
              "  <tbody>\n",
              "    <tr>\n",
              "      <th>Female</th>\n",
              "      <td>4461</td>\n",
              "    </tr>\n",
              "    <tr>\n",
              "      <th>Male</th>\n",
              "      <td>4039</td>\n",
              "    </tr>\n",
              "    <tr>\n",
              "      <th>Other</th>\n",
              "      <td>0</td>\n",
              "    </tr>\n",
              "  </tbody>\n",
              "</table>\n",
              "</div><br><label><b>dtype:</b> int64</label>"
            ]
          },
          "metadata": {},
          "execution_count": 9
        }
      ],
      "source": [
        "df.groupby('gender')['diabetes'].sum()"
      ]
    },
    {
      "cell_type": "markdown",
      "id": "RH7wmz1rmw8A",
      "metadata": {
        "id": "RH7wmz1rmw8A"
      },
      "source": [
        "### Informasi pada data:\n",
        "\n",
        "- Disini kita mendapatkan bahwa dari 8500 orang yang menderita diabetes, sebanyak 4461 orang adalah wanita sedangkan untuk pria sebanyak 4039."
      ]
    },
    {
      "cell_type": "markdown",
      "id": "1d_O-5uX7Lha",
      "metadata": {
        "id": "1d_O-5uX7Lha"
      },
      "source": [
        "## Selanjutnya, saya ingin melihat visualisasi data pada kolom yang kosong ada apa saja dengan diagram."
      ]
    },
    {
      "cell_type": "code",
      "execution_count": 10,
      "id": "WRT4PGjyjjA2",
      "metadata": {
        "colab": {
          "base_uri": "https://localhost:8080/",
          "height": 738
        },
        "id": "WRT4PGjyjjA2",
        "outputId": "b7475d6b-f6af-4971-9e50-ce9e50ef7eb7"
      },
      "outputs": [
        {
          "output_type": "execute_result",
          "data": {
            "text/plain": [
              "<Axes: >"
            ]
          },
          "metadata": {},
          "execution_count": 10
        },
        {
          "output_type": "display_data",
          "data": {
            "text/plain": [
              "<Figure size 2500x1000 with 2 Axes>"
            ],
            "image/png": "[encoded data removed]"
          },
          "metadata": {}
        }
      ],
      "source": [
        "import missingno as msno\n",
        "msno.matrix(df)\n"
      ]
    },
    {
      "cell_type": "markdown",
      "id": "8TGNTW4zj-Wh",
      "metadata": {
        "id": "8TGNTW4zj-Wh"
      },
      "source": [
        "## Disini kita dapat melihat bahwa dalam diagram tersebut bahwa tidak ada data yang NaN(tidak ada isinya) di setiap kolom\n",
        "\n",
        "###kebetulan dataset yang kami gunakan tidak ada yang NaN (tidak ada isinya) jadi kita tidak perlu membersihkan data yang kosong"
      ]
    },
    {
      "cell_type": "markdown",
      "id": "QkLm7DeBoDnQ",
      "metadata": {
        "id": "QkLm7DeBoDnQ"
      },
      "source": [
        "## Selanjutnya, saya ingin melihat bagaimana variasi/persebaran data pada dataset tersebut atau mencari data outliers.\n",
        "\n"
      ]
    },
    {
      "cell_type": "markdown",
      "id": "ePJPwdRPk8rH",
      "metadata": {
        "id": "ePJPwdRPk8rH"
      },
      "source": [
        "## Data Cleaning outlier\n",
        "- Data cleaning atau cleansing merupakan tahapan untuk membersihkan data yang berantakan.\n",
        "- Outliers adalah data yang memiliki nilai sangat jauh dari nilai umumnya, atau dengan kata lain memiliki nilai yang ekstrem. Outliers dapat mempengaruhi pegambilan kesimpulan penelitian dari hasil uji statistik.\n"
      ]
    },
    {
      "cell_type": "code",
      "execution_count": 11,
      "id": "Y7cx7KfinEVR",
      "metadata": {
        "colab": {
          "base_uri": "https://localhost:8080/",
          "height": 507
        },
        "id": "Y7cx7KfinEVR",
        "outputId": "2da6e09c-50b7-4983-9294-e3e4e9db8ca2"
      },
      "outputs": [
        {
          "output_type": "display_data",
          "data": {
            "text/plain": [
              "<Figure size 1000x500 with 4 Axes>"
            ],
            "image/png": "[encoded data removed]"
          },
          "metadata": {}
        }
      ],
      "source": [
        "fig, axes = plt.subplots(1, 4, figsize=(10, 5))\n",
        "sns.boxplot(ax=axes[0], data=df['age'])\n",
        "axes[0].set_title('Age')\n",
        "sns.boxplot(ax=axes[1], data=df['HbA1c_level'])\n",
        "axes[1].set_title('HbA1c')\n",
        "sns.boxplot(ax=axes[2], data=df['bmi'])\n",
        "axes[2].set_title('bmi')\n",
        "sns.boxplot(ax=axes[3], data=df['HbA1c_level'])\n",
        "axes[3].set_title('Glucose')\n",
        "\n",
        "plt.tight_layout()\n",
        "plt.show()\n"
      ]
    },
    {
      "cell_type": "markdown",
      "id": "LRPCikFnjhC9",
      "metadata": {
        "id": "LRPCikFnjhC9"
      },
      "source": [
        "### Informasi pada data :\n",
        "\n",
        "- Tidak ada data outliers di kolom age\n",
        "- Terdapat beberapa data outliers di kolom HbA1c, bmi, dan kolom glucose"
      ]
    },
    {
      "cell_type": "markdown",
      "id": "Nwfz5lfrpd6L",
      "metadata": {
        "id": "Nwfz5lfrpd6L"
      },
      "source": [
        "### Nah Untuk mengatasi data outlier yang ada, saya akan menggunakan metode IQR (Interquartile Range)."
      ]
    },
    {
      "cell_type": "code",
      "execution_count": 12,
      "id": "Aqmlil8onO4T",
      "metadata": {
        "id": "Aqmlil8onO4T"
      },
      "outputs": [],
      "source": [
        "Q1 = df[['HbA1c_level', 'bmi', 'blood_glucose_level']].quantile(0.25)\n",
        "Q3 = df[['HbA1c_level', 'bmi', 'blood_glucose_level']].quantile(0.75)\n",
        "IQR = Q3 - Q1\n",
        "filter = (df['HbA1c_level'] >= Q1['HbA1c_level'] - 1.5 * IQR['HbA1c_level']) & (df['HbA1c_level'] <= Q3['HbA1c_level'] + 1.5 * IQR['HbA1c_level']) & (df['bmi'] >= Q1['bmi'] - 1.5 * IQR['bmi']) & (df['bmi'] <= Q3['bmi'] + 1.5 * IQR['bmi']) & (df['blood_glucose_level'] >= Q1['blood_glucose_level'] - 1.5 * IQR['blood_glucose_level']) & (df['blood_glucose_level'] <= Q3['blood_glucose_level'] + 1.5 * IQR['blood_glucose_level'])\n",
        "data_filtered = df.loc[filter]"
      ]
    },
    {
      "cell_type": "code",
      "execution_count": 13,
      "id": "huf-6_duUb67",
      "metadata": {
        "id": "huf-6_duUb67"
      },
      "outputs": [],
      "source": [
        "# Q1 = data_filtered['bmi'].quantile(0.25)\n",
        "# Q3 = data_filtered['bmi'].quantile(0.75)\n",
        "# IQR = Q3 - Q1\n",
        "# filter = (data_filtered['bmi'] >= Q1 - 1.5 * IQR) & (data_filtered['bmi'] <= Q3 + 1.5 * IQR)\n",
        "# df_filtered = data_filtered.loc[filter]"
      ]
    },
    {
      "cell_type": "markdown",
      "id": "RW4czZj9G_b3",
      "metadata": {
        "id": "RW4czZj9G_b3"
      },
      "source": [
        "### berikut adalah hasil data setelah melakukan data cleaning"
      ]
    },
    {
      "cell_type": "code",
      "execution_count": 14,
      "id": "lA3bCyXNnTxA",
      "metadata": {
        "colab": {
          "base_uri": "https://localhost:8080/",
          "height": 507
        },
        "id": "lA3bCyXNnTxA",
        "outputId": "f0eadb1b-aa15-482b-d2f3-905bd3e77bde"
      },
      "outputs": [
        {
          "output_type": "display_data",
          "data": {
            "text/plain": [
              "<Figure size 1000x500 with 4 Axes>"
            ],
            "image/png": "[encoded data removed]"
          },
          "metadata": {}
        }
      ],
      "source": [
        "fig, axes = plt.subplots(1, 4, figsize=(10, 5))\n",
        "sns.boxplot(ax=axes[0], data=data_filtered['age'])\n",
        "axes[0].set_title('Age')\n",
        "sns.boxplot(ax=axes[1], data=data_filtered['HbA1c_level'])\n",
        "axes[1].set_title('HbA1c')\n",
        "sns.boxplot(ax=axes[2], data=data_filtered['bmi'])\n",
        "axes[2].set_title('bmi')\n",
        "sns.boxplot(ax=axes[3], data=data_filtered['blood_glucose_level'])\n",
        "axes[3].set_title('Glucose')\n",
        "\n",
        "plt.tight_layout()\n",
        "plt.show()\n"
      ]
    },
    {
      "cell_type": "markdown",
      "id": "sIWb3GSXUb69",
      "metadata": {
        "id": "sIWb3GSXUb69"
      },
      "source": [
        "Menurut WHO, kategori berat badan ideal berdasarkan BMI (Body Mass Index) adalah sebagai berikut:\n",
        "- Kurang dari 18,5: Berat badan kurang\n",
        "- 18,5–24,9: Berat badan normal\n",
        "- 25–29,9: Berat badan berlebih\n",
        "- Lebih dari 30: Obesitas"
      ]
    },
    {
      "cell_type": "markdown",
      "id": "79HHt_LmUb6-",
      "metadata": {
        "id": "79HHt_LmUb6-"
      },
      "source": [
        "BMI juga dapat diklasifikasikan sebagai berikut:\n",
        "- BMI 30,0–34,9: Obesitas tingkat I\n",
        "- BMI 35,0–39,9: Obesitas tingkat II\n",
        "- BMI ≥ 40,0: Obesitas tingkat III"
      ]
    },
    {
      "cell_type": "markdown",
      "id": "wZZWEipwUtpm",
      "metadata": {
        "id": "wZZWEipwUtpm"
      },
      "source": [
        "## alasannya:\n",
        "\n",
        "- yang pertama, persebaran data pada kolom bmi terlalu jauh di karenakan setiap orang memiliki index bmi yang berbeda-beda.\n",
        "- yang kedua, tipe data nya dia decimal dua angka di belakang koma, nah karena 2 angka dibelakang koma, jadi hasilnya lebih unik jadi susah untuk dibersihkan menggunakan quartil\n",
        "- yang ketiga, karena jumlah data banyak yaitu sebesar 100000 data\n"
      ]
    },
    {
      "cell_type": "code",
      "execution_count": 15,
      "id": "fRnaK2DKUb6-",
      "metadata": {
        "colab": {
          "base_uri": "https://localhost:8080/"
        },
        "id": "fRnaK2DKUb6-",
        "outputId": "b908b1f5-9caf-443a-b951-3b0cfea57a8d"
      },
      "outputs": [
        {
          "output_type": "stream",
          "name": "stdout",
          "text": [
            "Sebelum\n",
            "Total abnormal bmi: 4621, BMI Tertinggi: 95.69\n",
            "\n",
            "Sesudah\n",
            "Total abnormal bmi: 0, BMI Tertinggi: 38.5\n",
            "\n"
          ]
        }
      ],
      "source": [
        "abnormal_bmi_before = df[df['bmi'] >= 40]['bmi'].count()\n",
        "abnormal_bmi = data_filtered[data_filtered['bmi'] >= 40]['bmi'].count()\n",
        "max_bmi_before = df['bmi'].max()\n",
        "max_bmi = data_filtered['bmi'].max()\n",
        "data_filtered['bmi'].describe()\n",
        "\n",
        "print(\"Sebelum\")\n",
        "bf = f\"Total abnormal bmi: {abnormal_bmi_before}, BMI Tertinggi: {max_bmi_before}\\n\"\n",
        "print(bf)\n",
        "print(\"Sesudah\")\n",
        "af = f\"Total abnormal bmi: {abnormal_bmi}, BMI Tertinggi: {max_bmi}\\n\"\n",
        "print(af)"
      ]
    },
    {
      "cell_type": "markdown",
      "id": "E0HZdhl9W-hK",
      "metadata": {
        "id": "E0HZdhl9W-hK"
      },
      "source": [
        "##jadi, cara yang saya temukan untuk membersihkan data yang masih banyak outliernya, dengan membulatkan bilang decimalnya, jadi data bminya yang awal nya bertipe data float kita ubah ke int"
      ]
    },
    {
      "cell_type": "markdown",
      "id": "6JkmrxuhUb7Y",
      "metadata": {
        "id": "6JkmrxuhUb7Y"
      },
      "source": [
        "### cara mengubah nilai BMI menjadi tanpa koma."
      ]
    },
    {
      "cell_type": "code",
      "execution_count": 16,
      "id": "mFoQnN-VUb7d",
      "metadata": {
        "colab": {
          "base_uri": "https://localhost:8080/",
          "height": 458
        },
        "id": "mFoQnN-VUb7d",
        "outputId": "bdfe76ef-c721-4096-ade5-f1ff5aea351e"
      },
      "outputs": [
        {
          "output_type": "execute_result",
          "data": {
            "text/plain": [
              "0        25\n",
              "1        27\n",
              "2        27\n",
              "3        23\n",
              "4        20\n",
              "         ..\n",
              "99995    27\n",
              "99996    17\n",
              "99997    27\n",
              "99998    35\n",
              "99999    22\n",
              "Name: bmi, Length: 100000, dtype: int64"
            ],
            "text/html": [
              "<div>\n",
              "<style scoped>\n",
              "    .dataframe tbody tr th:only-of-type {\n",
              "        vertical-align: middle;\n",
              "    }\n",
              "\n",
              "    .dataframe tbody tr th {\n",
              "        vertical-align: top;\n",
              "    }\n",
              "\n",
              "    .dataframe thead th {\n",
              "        text-align: right;\n",
              "    }\n",
              "</style>\n",
              "<table border=\"1\" class=\"dataframe\">\n",
              "  <thead>\n",
              "    <tr style=\"text-align: right;\">\n",
              "      <th></th>\n",
              "      <th>bmi</th>\n",
              "    </tr>\n",
              "  </thead>\n",
              "  <tbody>\n",
              "    <tr>\n",
              "      <th>0</th>\n",
              "      <td>25</td>\n",
              "    </tr>\n",
              "    <tr>\n",
              "      <th>1</th>\n",
              "      <td>27</td>\n",
              "    </tr>\n",
              "    <tr>\n",
              "      <th>2</th>\n",
              "      <td>27</td>\n",
              "    </tr>\n",
              "    <tr>\n",
              "      <th>3</th>\n",
              "      <td>23</td>\n",
              "    </tr>\n",
              "    <tr>\n",
              "      <th>4</th>\n",
              "      <td>20</td>\n",
              "    </tr>\n",
              "    <tr>\n",
              "      <th>...</th>\n",
              "      <td>...</td>\n",
              "    </tr>\n",
              "    <tr>\n",
              "      <th>99995</th>\n",
              "      <td>27</td>\n",
              "    </tr>\n",
              "    <tr>\n",
              "      <th>99996</th>\n",
              "      <td>17</td>\n",
              "    </tr>\n",
              "    <tr>\n",
              "      <th>99997</th>\n",
              "      <td>27</td>\n",
              "    </tr>\n",
              "    <tr>\n",
              "      <th>99998</th>\n",
              "      <td>35</td>\n",
              "    </tr>\n",
              "    <tr>\n",
              "      <th>99999</th>\n",
              "      <td>22</td>\n",
              "    </tr>\n",
              "  </tbody>\n",
              "</table>\n",
              "<p>100000 rows × 1 columns</p>\n",
              "</div><br><label><b>dtype:</b> int64</label>"
            ]
          },
          "metadata": {},
          "execution_count": 16
        }
      ],
      "source": [
        "df['bmi'] = df['bmi'].astype(int)\n",
        "df['bmi']"
      ]
    },
    {
      "cell_type": "code",
      "execution_count": 17,
      "id": "SDg13K8YUb7g",
      "metadata": {
        "id": "SDg13K8YUb7g"
      },
      "outputs": [],
      "source": [
        "Q1 = df['bmi'].quantile(0.25)\n",
        "Q3 = df['bmi'].quantile(0.75)\n",
        "IQR = Q3 - Q1\n",
        "filter = (df['bmi'] >= Q1 - 1.5 * IQR) & (df['bmi'] <= Q3 + 1.5 * IQR)\n",
        "df_filtered = df.loc[filter]"
      ]
    },
    {
      "cell_type": "code",
      "execution_count": 18,
      "id": "QeTtX4JVUb7g",
      "metadata": {
        "id": "QeTtX4JVUb7g"
      },
      "outputs": [],
      "source": [
        "Q1 = df_filtered['bmi'].quantile(0.25)\n",
        "Q3 = df_filtered['bmi'].quantile(0.75)\n",
        "IQR = Q3 - Q1\n",
        "filter = (df_filtered['bmi'] >= Q1 - 1.5 * IQR) & (df_filtered['bmi'] <= Q3 + 1.5 * IQR)\n",
        "data2 = df_filtered.loc[filter]"
      ]
    },
    {
      "cell_type": "code",
      "execution_count": 19,
      "id": "XIQ5aFvy5nmK",
      "metadata": {
        "id": "XIQ5aFvy5nmK"
      },
      "outputs": [],
      "source": [
        "Q1 = data2['bmi'].quantile(0.25)\n",
        "Q3 = data2['bmi'].quantile(0.75)\n",
        "IQR = Q3 - Q1\n",
        "filter =  (data2['bmi'] >= Q1 - 1.5 * IQR) &  (data2['bmi'] <= Q3 + 1.5 * IQR)\n",
        "data3 = data2.loc[filter]"
      ]
    },
    {
      "cell_type": "code",
      "execution_count": 20,
      "id": "5yEYxKUoUb7h",
      "metadata": {
        "colab": {
          "base_uri": "https://localhost:8080/",
          "height": 507
        },
        "id": "5yEYxKUoUb7h",
        "outputId": "0e7abc65-d65b-4aab-ba4b-ee4b015decc2"
      },
      "outputs": [
        {
          "output_type": "display_data",
          "data": {
            "text/plain": [
              "<Figure size 500x500 with 1 Axes>"
            ],
            "image/png": "[encoded data removed]"
          },
          "metadata": {}
        }
      ],
      "source": [
        "fig, axes = plt.subplots(1, 1, figsize=(5, 5))\n",
        "sns.boxplot(ax=axes, data=data3['bmi'])\n",
        "axes.set_title('bmi')\n",
        "\n",
        "plt.tight_layout()\n",
        "plt.show()\n"
      ]
    },
    {
      "cell_type": "markdown",
      "id": "KbZCgdx1ZHMM",
      "metadata": {
        "id": "KbZCgdx1ZHMM"
      },
      "source": [
        "## nah, selanjutnya yang ingin saya tambahkan adalah, akurasi."
      ]
    },
    {
      "cell_type": "markdown",
      "id": "560691a1",
      "metadata": {
        "id": "560691a1",
        "papermill": {
          "duration": 0.008629,
          "end_time": "2023-06-13T04:38:26.849651",
          "exception": false,
          "start_time": "2023-06-13T04:38:26.841022",
          "status": "completed"
        },
        "tags": []
      },
      "source": [
        "## Visualizating Data"
      ]
    },
    {
      "cell_type": "markdown",
      "id": "92df5ed8",
      "metadata": {
        "id": "92df5ed8",
        "papermill": {
          "duration": 0.006365,
          "end_time": "2023-06-13T04:38:26.862870",
          "exception": false,
          "start_time": "2023-06-13T04:38:26.856505",
          "status": "completed"
        },
        "tags": []
      },
      "source": [
        " **Setting Graph style**"
      ]
    },
    {
      "cell_type": "code",
      "execution_count": 21,
      "id": "16d80492",
      "metadata": {
        "execution": {
          "iopub.execute_input": "2023-06-13T04:38:26.878012Z",
          "iopub.status.busy": "2023-06-13T04:38:26.877638Z",
          "iopub.status.idle": "2023-06-13T04:38:26.883476Z",
          "shell.execute_reply": "2023-06-13T04:38:26.882429Z"
        },
        "id": "16d80492",
        "papermill": {
          "duration": 0.016446,
          "end_time": "2023-06-13T04:38:26.885931",
          "exception": false,
          "start_time": "2023-06-13T04:38:26.869485",
          "status": "completed"
        },
        "tags": []
      },
      "outputs": [],
      "source": [
        "sns.set_style('darkgrid')\n",
        "plt.rcParams['font.size'] = 10\n",
        "plt.rcParams['figure.figsize'] = (5, 3)\n",
        "plt.rcParams['figure.facecolor'] = '#FFE5B4'"
      ]
    },
    {
      "cell_type": "code",
      "execution_count": 22,
      "id": "3bbed320",
      "metadata": {
        "colab": {
          "base_uri": "https://localhost:8080/",
          "height": 803
        },
        "execution": {
          "iopub.execute_input": "2023-06-13T04:38:26.900887Z",
          "iopub.status.busy": "2023-06-13T04:38:26.900556Z",
          "iopub.status.idle": "2023-06-13T04:38:28.238468Z",
          "shell.execute_reply": "2023-06-13T04:38:28.236957Z"
        },
        "id": "3bbed320",
        "outputId": "23a7327e-3f6c-4ffb-d664-b768c63a6de0",
        "papermill": {
          "duration": 1.348292,
          "end_time": "2023-06-13T04:38:28.241213",
          "exception": false,
          "start_time": "2023-06-13T04:38:26.892921",
          "status": "completed"
        },
        "tags": []
      },
      "outputs": [
        {
          "output_type": "display_data",
          "data": {
            "text/plain": [
              "<Figure size 1200x400 with 2 Axes>"
            ],
            "image/png": "[encoded data removed]"
          },
          "metadata": {}
        },
        {
          "output_type": "display_data",
          "data": {
            "text/plain": [
              "<Figure size 1400x400 with 1 Axes>"
            ],
            "image/png": "[encoded data removed]"
          },
          "metadata": {}
        }
      ],
      "source": [
        "plt.figure(figsize=(12,4))\n",
        "plt.subplot(121)\n",
        "sns.countplot(x = \"diabetes\", data=df, hue=\"gender\")\n",
        "plt.title('Gender Ratio')\n",
        "\n",
        "plt.subplot(122)\n",
        "sns.countplot(x = \"diabetes\", data=df, hue=\"smoking_history\")\n",
        "plt.title('Smoking Status')\n",
        "\n",
        "plt.figure(figsize=(14,4))\n",
        "plt.subplot(121)\n",
        "sns.countplot(x = \"diabetes\", data=df, hue=\"heart_disease\")\n",
        "plt.title('Diabetes Count')\n",
        "\n",
        "plt.show()"
      ]
    },
    {
      "cell_type": "markdown",
      "id": "45c42af5",
      "metadata": {
        "id": "45c42af5",
        "papermill": {
          "duration": 0.008382,
          "end_time": "2023-06-13T04:38:28.745068",
          "exception": false,
          "start_time": "2023-06-13T04:38:28.736686",
          "status": "completed"
        },
        "tags": []
      },
      "source": [
        "## Machine Learning Model"
      ]
    },
    {
      "cell_type": "code",
      "execution_count": 23,
      "id": "e0cd8c8a",
      "metadata": {
        "execution": {
          "iopub.execute_input": "2023-06-13T04:38:28.765157Z",
          "iopub.status.busy": "2023-06-13T04:38:28.763426Z",
          "iopub.status.idle": "2023-06-13T04:38:29.149768Z",
          "shell.execute_reply": "2023-06-13T04:38:29.148647Z"
        },
        "id": "e0cd8c8a",
        "papermill": {
          "duration": 0.39885,
          "end_time": "2023-06-13T04:38:29.152421",
          "exception": false,
          "start_time": "2023-06-13T04:38:28.753571",
          "status": "completed"
        },
        "tags": []
      },
      "outputs": [],
      "source": [
        "from sklearn.preprocessing import LabelEncoder, OneHotEncoder, StandardScaler\n",
        "from sklearn.model_selection import train_test_split\n",
        "from sklearn.linear_model import LogisticRegression\n",
        "from sklearn import metrics"
      ]
    },
    {
      "cell_type": "markdown",
      "source": [
        "Dengan mengimpor modul tersebut, saya dapat menggunakan fungsionalitas yang\n",
        "disediakan oleh scikit-learn untuk melakukan preprocessing data, normalisasi(scaling) data, membagi(spliting) data, melatih(Training) model Logistic Regression dan mengevaluasi kinerja model menggunakan berbagai metric"
      ],
      "metadata": {
        "id": "B0WAhK-8rb0r"
      },
      "id": "B0WAhK-8rb0r"
    },
    {
      "cell_type": "markdown",
      "id": "492afc20",
      "metadata": {
        "id": "492afc20"
      },
      "source": [
        "#### Preprocessing Data"
      ]
    },
    {
      "cell_type": "markdown",
      "id": "760231f0",
      "metadata": {
        "id": "760231f0"
      },
      "source": [
        "Mengganti nilai kategorikal dengan nilai numerik memungkinkan algoritma machine learning untuk memahami data lebih baik. Kode ini melakukan penggantian nilai 'gender' dan 'smoking_history' dengan nilai numerik untuk mempersiapkan data sebelum pelatihan model."
      ]
    },
    {
      "cell_type": "markdown",
      "source": [
        "Hal ini diperlukan karena model yang akan saya buat \"Logistic Regression\" memerlukan input berupa numerik"
      ],
      "metadata": {
        "id": "M1SLSBozsOe2"
      },
      "id": "M1SLSBozsOe2"
    },
    {
      "cell_type": "code",
      "execution_count": 24,
      "id": "b2e1ea64",
      "metadata": {
        "execution": {
          "iopub.execute_input": "2023-06-13T04:38:29.172258Z",
          "iopub.status.busy": "2023-06-13T04:38:29.171340Z",
          "iopub.status.idle": "2023-06-13T04:38:29.258757Z",
          "shell.execute_reply": "2023-06-13T04:38:29.257153Z"
        },
        "id": "b2e1ea64",
        "papermill": {
          "duration": 0.099926,
          "end_time": "2023-06-13T04:38:29.261450",
          "exception": false,
          "start_time": "2023-06-13T04:38:29.161524",
          "status": "completed"
        },
        "tags": [],
        "colab": {
          "base_uri": "https://localhost:8080/"
        },
        "outputId": "77eb24d9-d172-473e-d942-8da1cd24040a"
      },
      "outputs": [
        {
          "output_type": "stream",
          "name": "stderr",
          "text": [
            "/tmp/ipython-input-24-1613394577.py:1: FutureWarning: A value is trying to be set on a copy of a DataFrame or Series through chained assignment using an inplace method.\n",
            "The behavior will change in pandas 3.0. This inplace method will never work because the intermediate object on which we are setting values always behaves as a copy.\n",
            "\n",
            "For example, when doing 'df[col].method(value, inplace=True)', try using 'df.method({col: value}, inplace=True)' or df[col] = df[col].method(value) instead, to perform the operation inplace on the original object.\n",
            "\n",
            "\n",
            "  df['gender'].replace({'Female': 0, 'Male': 1, 'Other': 2}, inplace=True)\n",
            "/tmp/ipython-input-24-1613394577.py:1: FutureWarning: Downcasting behavior in `replace` is deprecated and will be removed in a future version. To retain the old behavior, explicitly call `result.infer_objects(copy=False)`. To opt-in to the future behavior, set `pd.set_option('future.no_silent_downcasting', True)`\n",
            "  df['gender'].replace({'Female': 0, 'Male': 1, 'Other': 2}, inplace=True)\n",
            "/tmp/ipython-input-24-1613394577.py:2: FutureWarning: A value is trying to be set on a copy of a DataFrame or Series through chained assignment using an inplace method.\n",
            "The behavior will change in pandas 3.0. This inplace method will never work because the intermediate object on which we are setting values always behaves as a copy.\n",
            "\n",
            "For example, when doing 'df[col].method(value, inplace=True)', try using 'df.method({col: value}, inplace=True)' or df[col] = df[col].method(value) instead, to perform the operation inplace on the original object.\n",
            "\n",
            "\n",
            "  df['smoking_history'].replace(\n",
            "/tmp/ipython-input-24-1613394577.py:2: FutureWarning: Downcasting behavior in `replace` is deprecated and will be removed in a future version. To retain the old behavior, explicitly call `result.infer_objects(copy=False)`. To opt-in to the future behavior, set `pd.set_option('future.no_silent_downcasting', True)`\n",
            "  df['smoking_history'].replace(\n"
          ]
        }
      ],
      "source": [
        "df['gender'].replace({'Female': 0, 'Male': 1, 'Other': 2}, inplace=True)\n",
        "df['smoking_history'].replace(\n",
        "    {'No Info': 0, 'current': 1, 'ever': 2, 'former': 3, 'never': 4, 'not current': 5}, inplace=True)"
      ]
    },
    {
      "cell_type": "code",
      "execution_count": 25,
      "id": "f09f4677",
      "metadata": {
        "colab": {
          "base_uri": "https://localhost:8080/",
          "height": 593
        },
        "execution": {
          "iopub.execute_input": "2023-06-13T04:38:28.259374Z",
          "iopub.status.busy": "2023-06-13T04:38:28.258991Z",
          "iopub.status.idle": "2023-06-13T04:38:28.725472Z",
          "shell.execute_reply": "2023-06-13T04:38:28.724530Z"
        },
        "id": "f09f4677",
        "outputId": "f7889cc8-650a-4a16-c596-bd5fee86a743",
        "papermill": {
          "duration": 0.477954,
          "end_time": "2023-06-13T04:38:28.727625",
          "exception": false,
          "start_time": "2023-06-13T04:38:28.249671",
          "status": "completed"
        },
        "tags": []
      },
      "outputs": [
        {
          "output_type": "execute_result",
          "data": {
            "text/plain": [
              "<Axes: >"
            ]
          },
          "metadata": {},
          "execution_count": 25
        },
        {
          "output_type": "display_data",
          "data": {
            "text/plain": [
              "<Figure size 1100x500 with 2 Axes>"
            ],
            "image/png": "[encoded data removed]"
          },
          "metadata": {}
        }
      ],
      "source": [
        "plt.rcParams['figure.figsize'] = (11,5)\n",
        "plt.rcParams['figure.facecolor'] = '#FFFFFF'\n",
        "sns.heatmap(df.corr(), annot=True, cmap=\"YlGn\")"
      ]
    },
    {
      "cell_type": "markdown",
      "id": "0a27a60e",
      "metadata": {
        "id": "0a27a60e"
      },
      "source": [
        "#### Data Splitting\n"
      ]
    },
    {
      "cell_type": "markdown",
      "id": "a0068e58",
      "metadata": {
        "id": "a0068e58"
      },
      "source": [
        "- X = df.iloc[:,:-1]:\n",
        "\n",
        "Mengambil semua baris (:) dan semua kolom kecuali kolom terakhir (:-1) dari dataset df.\n",
        "Menyimpan hasil ini dalam variabel X, yang mewakili fitur (data yang digunakan untuk membuat prediksi).\n",
        "\n",
        "\n",
        "- y = df.iloc[:,-1]:\n",
        "\n",
        "Mengambil semua baris (:) dan hanya kolom terakhir (-1) dari dataset df.\n",
        "Menyimpan hasil ini dalam variabel y, yang mewakili label (target yang ingin diprediksi)."
      ]
    },
    {
      "cell_type": "code",
      "source": [
        "X = df.iloc[:, :-1]  # Semua kolom kecuali 'diabetes'\n",
        "y = df.iloc[:, -1]   # Kolom 'diabetes'"
      ],
      "metadata": {
        "id": "ISKYRK-5M81z"
      },
      "id": "ISKYRK-5M81z",
      "execution_count": 26,
      "outputs": []
    },
    {
      "cell_type": "markdown",
      "source": [
        "Pembagian data menjadi set pelatihan (X_train, y_train) dan pengujian (X_Test, y_test) menggunakan train_test_split adalah langkah penting dalam proses machine learning. Ini memastikan bahwa model tidak 'overfitting' atau 'underfitting' pada data. Kode ini menggunakan fungsi train_test_split dari scikit-learn untuk membagi data."
      ],
      "metadata": {
        "id": "x-kA9ZYZkHGy"
      },
      "id": "x-kA9ZYZkHGy"
    },
    {
      "cell_type": "markdown",
      "source": [
        "Sebanyak 80% data digunakan untuk pelatihan dan 20% untuk pengujian dan random_state=0 yang digunakan untuk memastikan reproduktibilitas hasil agar hasil dapat diverifikasi dan dibandingkan dengan konsistensi"
      ],
      "metadata": {
        "id": "5iX8QmUokrs4"
      },
      "id": "5iX8QmUokrs4"
    },
    {
      "cell_type": "code",
      "execution_count": 27,
      "id": "60b282d7",
      "metadata": {
        "execution": {
          "iopub.execute_input": "2023-06-13T04:38:29.310541Z",
          "iopub.status.busy": "2023-06-13T04:38:29.310122Z",
          "iopub.status.idle": "2023-06-13T04:38:29.330957Z",
          "shell.execute_reply": "2023-06-13T04:38:29.329686Z"
        },
        "id": "60b282d7",
        "papermill": {
          "duration": 0.033243,
          "end_time": "2023-06-13T04:38:29.333627",
          "exception": false,
          "start_time": "2023-06-13T04:38:29.300384",
          "status": "completed"
        },
        "tags": []
      },
      "outputs": [],
      "source": [
        "X_train, X_test, y_train, y_test = train_test_split(X, y, test_size=0.20, random_state=0)"
      ]
    },
    {
      "cell_type": "markdown",
      "source": [
        "CATATAN !!!\n",
        "\n",
        "Overfitting = keadaan dimana model berusaha untuk mempelajari seluruh detail termasuk noise yang ada dalam data dan berusaha untuk mengikutsertakan semua data point ke dalam garis.\n",
        "\n",
        "Underfitting = keadaan dimana model machine learning tidak bisa mempelajari hubungan antara variabel dalam data serta memprediksi atau mengklasifikasikan data point baru."
      ],
      "metadata": {
        "id": "pfZ5OqHksiWh"
      },
      "id": "pfZ5OqHksiWh"
    },
    {
      "cell_type": "markdown",
      "id": "8902ff06",
      "metadata": {
        "id": "8902ff06"
      },
      "source": [
        "#### Data Scaling\n"
      ]
    },
    {
      "cell_type": "markdown",
      "id": "03032d18",
      "metadata": {
        "id": "03032d18"
      },
      "source": [
        "Skala data sangat penting untuk algoritma yang berbasis jarak, seperti regresi linear. Menggunakan StandardScaler akan mengubah fitur sehingga memiliki rata-rata 0 dan deviasi 1 untuk meningkatkan kinerja model."
      ]
    },
    {
      "cell_type": "code",
      "execution_count": 28,
      "id": "471a5b95",
      "metadata": {
        "execution": {
          "iopub.execute_input": "2023-06-13T04:38:29.352912Z",
          "iopub.status.busy": "2023-06-13T04:38:29.352550Z",
          "iopub.status.idle": "2023-06-13T04:38:29.371282Z",
          "shell.execute_reply": "2023-06-13T04:38:29.370022Z"
        },
        "id": "471a5b95",
        "papermill": {
          "duration": 0.030757,
          "end_time": "2023-06-13T04:38:29.373440",
          "exception": false,
          "start_time": "2023-06-13T04:38:29.342683",
          "status": "completed"
        },
        "tags": []
      },
      "outputs": [],
      "source": [
        "sc = StandardScaler()\n",
        "X_train = sc.fit_transform(X_train)\n",
        "X_test = sc.transform(X_test)"
      ]
    },
    {
      "cell_type": "markdown",
      "source": [
        "Data pelatihan dan data uji dinormalisasi menggunakan StandardScaler untuk memastikan bahwa variabel-variabel memiliki skala yang serupa. Normalisasi penting dalam beberapa model machine learning, termasuk regresi linear, untuk memastikan konvergensi yang baik selama pelatihan."
      ],
      "metadata": {
        "id": "lsmyqDtKTdrp"
      },
      "id": "lsmyqDtKTdrp"
    },
    {
      "cell_type": "markdown",
      "id": "c7652eb5",
      "metadata": {
        "id": "c7652eb5"
      },
      "source": [
        "#### Model Training\n"
      ]
    },
    {
      "cell_type": "markdown",
      "id": "46431a4e",
      "metadata": {
        "id": "46431a4e"
      },
      "source": [
        "Ini adalah langkah di mana model aktual diterapkan ke data. Menggunakan model yang telah dilatih untuk membuat prediksi pada set pengujian."
      ]
    },
    {
      "cell_type": "code",
      "execution_count": 29,
      "id": "b3d4191a",
      "metadata": {
        "execution": {
          "iopub.execute_input": "2023-06-13T04:38:29.392827Z",
          "iopub.status.busy": "2023-06-13T04:38:29.392407Z",
          "iopub.status.idle": "2023-06-13T04:38:29.477032Z",
          "shell.execute_reply": "2023-06-13T04:38:29.476372Z"
        },
        "id": "b3d4191a",
        "papermill": {
          "duration": 0.096571,
          "end_time": "2023-06-13T04:38:29.478749",
          "exception": false,
          "start_time": "2023-06-13T04:38:29.382178",
          "status": "completed"
        },
        "tags": [],
        "colab": {
          "base_uri": "https://localhost:8080/",
          "height": 80
        },
        "outputId": "ecca3a5e-f1e1-4ece-af14-bc3f3cf4c458"
      },
      "outputs": [
        {
          "output_type": "execute_result",
          "data": {
            "text/plain": [
              "LogisticRegression()"
            ],
            "text/html": [
              "<style>#sk-container-id-1 {\n",
              "  /* Definition of color scheme common for light and dark mode */\n",
              "  --sklearn-color-text: #000;\n",
              "  --sklearn-color-text-muted: #666;\n",
              "  --sklearn-color-line: gray;\n",
              "  /* Definition of color scheme for unfitted estimators */\n",
              "  --sklearn-color-unfitted-level-0: #fff5e6;\n",
              "  --sklearn-color-unfitted-level-1: #f6e4d2;\n",
              "  --sklearn-color-unfitted-level-2: #ffe0b3;\n",
              "  --sklearn-color-unfitted-level-3: chocolate;\n",
              "  /* Definition of color scheme for fitted estimators */\n",
              "  --sklearn-color-fitted-level-0: #f0f8ff;\n",
              "  --sklearn-color-fitted-level-1: #d4ebff;\n",
              "  --sklearn-color-fitted-level-2: #b3dbfd;\n",
              "  --sklearn-color-fitted-level-3: cornflowerblue;\n",
              "\n",
              "  /* Specific color for light theme */\n",
              "  --sklearn-color-text-on-default-background: var(--sg-text-color, var(--theme-code-foreground, var(--jp-content-font-color1, black)));\n",
              "  --sklearn-color-background: var(--sg-background-color, var(--theme-background, var(--jp-layout-color0, white)));\n",
              "  --sklearn-color-border-box: var(--sg-text-color, var(--theme-code-foreground, var(--jp-content-font-color1, black)));\n",
              "  --sklearn-color-icon: #696969;\n",
              "\n",
              "  @media (prefers-color-scheme: dark) {\n",
              "    /* Redefinition of color scheme for dark theme */\n",
              "    --sklearn-color-text-on-default-background: var(--sg-text-color, var(--theme-code-foreground, var(--jp-content-font-color1, white)));\n",
              "    --sklearn-color-background: var(--sg-background-color, var(--theme-background, var(--jp-layout-color0, #111)));\n",
              "    --sklearn-color-border-box: var(--sg-text-color, var(--theme-code-foreground, var(--jp-content-font-color1, white)));\n",
              "    --sklearn-color-icon: #878787;\n",
              "  }\n",
              "}\n",
              "\n",
              "#sk-container-id-1 {\n",
              "  color: var(--sklearn-color-text);\n",
              "}\n",
              "\n",
              "#sk-container-id-1 pre {\n",
              "  padding: 0;\n",
              "}\n",
              "\n",
              "#sk-container-id-1 input.sk-hidden--visually {\n",
              "  border: 0;\n",
              "  clip: rect(1px 1px 1px 1px);\n",
              "  clip: rect(1px, 1px, 1px, 1px);\n",
              "  height: 1px;\n",
              "  margin: -1px;\n",
              "  overflow: hidden;\n",
              "  padding: 0;\n",
              "  position: absolute;\n",
              "  width: 1px;\n",
              "}\n",
              "\n",
              "#sk-container-id-1 div.sk-dashed-wrapped {\n",
              "  border: 1px dashed var(--sklearn-color-line);\n",
              "  margin: 0 0.4em 0.5em 0.4em;\n",
              "  box-sizing: border-box;\n",
              "  padding-bottom: 0.4em;\n",
              "  background-color: var(--sklearn-color-background);\n",
              "}\n",
              "\n",
              "#sk-container-id-1 div.sk-container {\n",
              "  /* jupyter's `normalize.less` sets `[hidden] { display: none; }`\n",
              "     but bootstrap.min.css set `[hidden] { display: none !important; }`\n",
              "     so we also need the `!important` here to be able to override the\n",
              "     default hidden behavior on the sphinx rendered scikit-learn.org.\n",
              "     See: https://github.com/scikit-learn/scikit-learn/issues/21755 */\n",
              "  display: inline-block !important;\n",
              "  position: relative;\n",
              "}\n",
              "\n",
              "#sk-container-id-1 div.sk-text-repr-fallback {\n",
              "  display: none;\n",
              "}\n",
              "\n",
              "div.sk-parallel-item,\n",
              "div.sk-serial,\n",
              "div.sk-item {\n",
              "  /* draw centered vertical line to link estimators */\n",
              "  background-image: linear-gradient(var(--sklearn-color-text-on-default-background), var(--sklearn-color-text-on-default-background));\n",
              "  background-size: 2px 100%;\n",
              "  background-repeat: no-repeat;\n",
              "  background-position: center center;\n",
              "}\n",
              "\n",
              "/* Parallel-specific style estimator block */\n",
              "\n",
              "#sk-container-id-1 div.sk-parallel-item::after {\n",
              "  content: \"\";\n",
              "  width: 100%;\n",
              "  border-bottom: 2px solid var(--sklearn-color-text-on-default-background);\n",
              "  flex-grow: 1;\n",
              "}\n",
              "\n",
              "#sk-container-id-1 div.sk-parallel {\n",
              "  display: flex;\n",
              "  align-items: stretch;\n",
              "  justify-content: center;\n",
              "  background-color: var(--sklearn-color-background);\n",
              "  position: relative;\n",
              "}\n",
              "\n",
              "#sk-container-id-1 div.sk-parallel-item {\n",
              "  display: flex;\n",
              "  flex-direction: column;\n",
              "}\n",
              "\n",
              "#sk-container-id-1 div.sk-parallel-item:first-child::after {\n",
              "  align-self: flex-end;\n",
              "  width: 50%;\n",
              "}\n",
              "\n",
              "#sk-container-id-1 div.sk-parallel-item:last-child::after {\n",
              "  align-self: flex-start;\n",
              "  width: 50%;\n",
              "}\n",
              "\n",
              "#sk-container-id-1 div.sk-parallel-item:only-child::after {\n",
              "  width: 0;\n",
              "}\n",
              "\n",
              "/* Serial-specific style estimator block */\n",
              "\n",
              "#sk-container-id-1 div.sk-serial {\n",
              "  display: flex;\n",
              "  flex-direction: column;\n",
              "  align-items: center;\n",
              "  background-color: var(--sklearn-color-background);\n",
              "  padding-right: 1em;\n",
              "  padding-left: 1em;\n",
              "}\n",
              "\n",
              "\n",
              "/* Toggleable style: style used for estimator/Pipeline/ColumnTransformer box that is\n",
              "clickable and can be expanded/collapsed.\n",
              "- Pipeline and ColumnTransformer use this feature and define the default style\n",
              "- Estimators will overwrite some part of the style using the `sk-estimator` class\n",
              "*/\n",
              "\n",
              "/* Pipeline and ColumnTransformer style (default) */\n",
              "\n",
              "#sk-container-id-1 div.sk-toggleable {\n",
              "  /* Default theme specific background. It is overwritten whether we have a\n",
              "  specific estimator or a Pipeline/ColumnTransformer */\n",
              "  background-color: var(--sklearn-color-background);\n",
              "}\n",
              "\n",
              "/* Toggleable label */\n",
              "#sk-container-id-1 label.sk-toggleable__label {\n",
              "  cursor: pointer;\n",
              "  display: flex;\n",
              "  width: 100%;\n",
              "  margin-bottom: 0;\n",
              "  padding: 0.5em;\n",
              "  box-sizing: border-box;\n",
              "  text-align: center;\n",
              "  align-items: start;\n",
              "  justify-content: space-between;\n",
              "  gap: 0.5em;\n",
              "}\n",
              "\n",
              "#sk-container-id-1 label.sk-toggleable__label .caption {\n",
              "  font-size: 0.6rem;\n",
              "  font-weight: lighter;\n",
              "  color: var(--sklearn-color-text-muted);\n",
              "}\n",
              "\n",
              "#sk-container-id-1 label.sk-toggleable__label-arrow:before {\n",
              "  /* Arrow on the left of the label */\n",
              "  content: \"▸\";\n",
              "  float: left;\n",
              "  margin-right: 0.25em;\n",
              "  color: var(--sklearn-color-icon);\n",
              "}\n",
              "\n",
              "#sk-container-id-1 label.sk-toggleable__label-arrow:hover:before {\n",
              "  color: var(--sklearn-color-text);\n",
              "}\n",
              "\n",
              "/* Toggleable content - dropdown */\n",
              "\n",
              "#sk-container-id-1 div.sk-toggleable__content {\n",
              "  max-height: 0;\n",
              "  max-width: 0;\n",
              "  overflow: hidden;\n",
              "  text-align: left;\n",
              "  /* unfitted */\n",
              "  background-color: var(--sklearn-color-unfitted-level-0);\n",
              "}\n",
              "\n",
              "#sk-container-id-1 div.sk-toggleable__content.fitted {\n",
              "  /* fitted */\n",
              "  background-color: var(--sklearn-color-fitted-level-0);\n",
              "}\n",
              "\n",
              "#sk-container-id-1 div.sk-toggleable__content pre {\n",
              "  margin: 0.2em;\n",
              "  border-radius: 0.25em;\n",
              "  color: var(--sklearn-color-text);\n",
              "  /* unfitted */\n",
              "  background-color: var(--sklearn-color-unfitted-level-0);\n",
              "}\n",
              "\n",
              "#sk-container-id-1 div.sk-toggleable__content.fitted pre {\n",
              "  /* unfitted */\n",
              "  background-color: var(--sklearn-color-fitted-level-0);\n",
              "}\n",
              "\n",
              "#sk-container-id-1 input.sk-toggleable__control:checked~div.sk-toggleable__content {\n",
              "  /* Expand drop-down */\n",
              "  max-height: 200px;\n",
              "  max-width: 100%;\n",
              "  overflow: auto;\n",
              "}\n",
              "\n",
              "#sk-container-id-1 input.sk-toggleable__control:checked~label.sk-toggleable__label-arrow:before {\n",
              "  content: \"▾\";\n",
              "}\n",
              "\n",
              "/* Pipeline/ColumnTransformer-specific style */\n",
              "\n",
              "#sk-container-id-1 div.sk-label input.sk-toggleable__control:checked~label.sk-toggleable__label {\n",
              "  color: var(--sklearn-color-text);\n",
              "  background-color: var(--sklearn-color-unfitted-level-2);\n",
              "}\n",
              "\n",
              "#sk-container-id-1 div.sk-label.fitted input.sk-toggleable__control:checked~label.sk-toggleable__label {\n",
              "  background-color: var(--sklearn-color-fitted-level-2);\n",
              "}\n",
              "\n",
              "/* Estimator-specific style */\n",
              "\n",
              "/* Colorize estimator box */\n",
              "#sk-container-id-1 div.sk-estimator input.sk-toggleable__control:checked~label.sk-toggleable__label {\n",
              "  /* unfitted */\n",
              "  background-color: var(--sklearn-color-unfitted-level-2);\n",
              "}\n",
              "\n",
              "#sk-container-id-1 div.sk-estimator.fitted input.sk-toggleable__control:checked~label.sk-toggleable__label {\n",
              "  /* fitted */\n",
              "  background-color: var(--sklearn-color-fitted-level-2);\n",
              "}\n",
              "\n",
              "#sk-container-id-1 div.sk-label label.sk-toggleable__label,\n",
              "#sk-container-id-1 div.sk-label label {\n",
              "  /* The background is the default theme color */\n",
              "  color: var(--sklearn-color-text-on-default-background);\n",
              "}\n",
              "\n",
              "/* On hover, darken the color of the background */\n",
              "#sk-container-id-1 div.sk-label:hover label.sk-toggleable__label {\n",
              "  color: var(--sklearn-color-text);\n",
              "  background-color: var(--sklearn-color-unfitted-level-2);\n",
              "}\n",
              "\n",
              "/* Label box, darken color on hover, fitted */\n",
              "#sk-container-id-1 div.sk-label.fitted:hover label.sk-toggleable__label.fitted {\n",
              "  color: var(--sklearn-color-text);\n",
              "  background-color: var(--sklearn-color-fitted-level-2);\n",
              "}\n",
              "\n",
              "/* Estimator label */\n",
              "\n",
              "#sk-container-id-1 div.sk-label label {\n",
              "  font-family: monospace;\n",
              "  font-weight: bold;\n",
              "  display: inline-block;\n",
              "  line-height: 1.2em;\n",
              "}\n",
              "\n",
              "#sk-container-id-1 div.sk-label-container {\n",
              "  text-align: center;\n",
              "}\n",
              "\n",
              "/* Estimator-specific */\n",
              "#sk-container-id-1 div.sk-estimator {\n",
              "  font-family: monospace;\n",
              "  border: 1px dotted var(--sklearn-color-border-box);\n",
              "  border-radius: 0.25em;\n",
              "  box-sizing: border-box;\n",
              "  margin-bottom: 0.5em;\n",
              "  /* unfitted */\n",
              "  background-color: var(--sklearn-color-unfitted-level-0);\n",
              "}\n",
              "\n",
              "#sk-container-id-1 div.sk-estimator.fitted {\n",
              "  /* fitted */\n",
              "  background-color: var(--sklearn-color-fitted-level-0);\n",
              "}\n",
              "\n",
              "/* on hover */\n",
              "#sk-container-id-1 div.sk-estimator:hover {\n",
              "  /* unfitted */\n",
              "  background-color: var(--sklearn-color-unfitted-level-2);\n",
              "}\n",
              "\n",
              "#sk-container-id-1 div.sk-estimator.fitted:hover {\n",
              "  /* fitted */\n",
              "  background-color: var(--sklearn-color-fitted-level-2);\n",
              "}\n",
              "\n",
              "/* Specification for estimator info (e.g. \"i\" and \"?\") */\n",
              "\n",
              "/* Common style for \"i\" and \"?\" */\n",
              "\n",
              ".sk-estimator-doc-link,\n",
              "a:link.sk-estimator-doc-link,\n",
              "a:visited.sk-estimator-doc-link {\n",
              "  float: right;\n",
              "  font-size: smaller;\n",
              "  line-height: 1em;\n",
              "  font-family: monospace;\n",
              "  background-color: var(--sklearn-color-background);\n",
              "  border-radius: 1em;\n",
              "  height: 1em;\n",
              "  width: 1em;\n",
              "  text-decoration: none !important;\n",
              "  margin-left: 0.5em;\n",
              "  text-align: center;\n",
              "  /* unfitted */\n",
              "  border: var(--sklearn-color-unfitted-level-1) 1pt solid;\n",
              "  color: var(--sklearn-color-unfitted-level-1);\n",
              "}\n",
              "\n",
              ".sk-estimator-doc-link.fitted,\n",
              "a:link.sk-estimator-doc-link.fitted,\n",
              "a:visited.sk-estimator-doc-link.fitted {\n",
              "  /* fitted */\n",
              "  border: var(--sklearn-color-fitted-level-1) 1pt solid;\n",
              "  color: var(--sklearn-color-fitted-level-1);\n",
              "}\n",
              "\n",
              "/* On hover */\n",
              "div.sk-estimator:hover .sk-estimator-doc-link:hover,\n",
              ".sk-estimator-doc-link:hover,\n",
              "div.sk-label-container:hover .sk-estimator-doc-link:hover,\n",
              ".sk-estimator-doc-link:hover {\n",
              "  /* unfitted */\n",
              "  background-color: var(--sklearn-color-unfitted-level-3);\n",
              "  color: var(--sklearn-color-background);\n",
              "  text-decoration: none;\n",
              "}\n",
              "\n",
              "div.sk-estimator.fitted:hover .sk-estimator-doc-link.fitted:hover,\n",
              ".sk-estimator-doc-link.fitted:hover,\n",
              "div.sk-label-container:hover .sk-estimator-doc-link.fitted:hover,\n",
              ".sk-estimator-doc-link.fitted:hover {\n",
              "  /* fitted */\n",
              "  background-color: var(--sklearn-color-fitted-level-3);\n",
              "  color: var(--sklearn-color-background);\n",
              "  text-decoration: none;\n",
              "}\n",
              "\n",
              "/* Span, style for the box shown on hovering the info icon */\n",
              ".sk-estimator-doc-link span {\n",
              "  display: none;\n",
              "  z-index: 9999;\n",
              "  position: relative;\n",
              "  font-weight: normal;\n",
              "  right: .2ex;\n",
              "  padding: .5ex;\n",
              "  margin: .5ex;\n",
              "  width: min-content;\n",
              "  min-width: 20ex;\n",
              "  max-width: 50ex;\n",
              "  color: var(--sklearn-color-text);\n",
              "  box-shadow: 2pt 2pt 4pt #999;\n",
              "  /* unfitted */\n",
              "  background: var(--sklearn-color-unfitted-level-0);\n",
              "  border: .5pt solid var(--sklearn-color-unfitted-level-3);\n",
              "}\n",
              "\n",
              ".sk-estimator-doc-link.fitted span {\n",
              "  /* fitted */\n",
              "  background: var(--sklearn-color-fitted-level-0);\n",
              "  border: var(--sklearn-color-fitted-level-3);\n",
              "}\n",
              "\n",
              ".sk-estimator-doc-link:hover span {\n",
              "  display: block;\n",
              "}\n",
              "\n",
              "/* \"?\"-specific style due to the `<a>` HTML tag */\n",
              "\n",
              "#sk-container-id-1 a.estimator_doc_link {\n",
              "  float: right;\n",
              "  font-size: 1rem;\n",
              "  line-height: 1em;\n",
              "  font-family: monospace;\n",
              "  background-color: var(--sklearn-color-background);\n",
              "  border-radius: 1rem;\n",
              "  height: 1rem;\n",
              "  width: 1rem;\n",
              "  text-decoration: none;\n",
              "  /* unfitted */\n",
              "  color: var(--sklearn-color-unfitted-level-1);\n",
              "  border: var(--sklearn-color-unfitted-level-1) 1pt solid;\n",
              "}\n",
              "\n",
              "#sk-container-id-1 a.estimator_doc_link.fitted {\n",
              "  /* fitted */\n",
              "  border: var(--sklearn-color-fitted-level-1) 1pt solid;\n",
              "  color: var(--sklearn-color-fitted-level-1);\n",
              "}\n",
              "\n",
              "/* On hover */\n",
              "#sk-container-id-1 a.estimator_doc_link:hover {\n",
              "  /* unfitted */\n",
              "  background-color: var(--sklearn-color-unfitted-level-3);\n",
              "  color: var(--sklearn-color-background);\n",
              "  text-decoration: none;\n",
              "}\n",
              "\n",
              "#sk-container-id-1 a.estimator_doc_link.fitted:hover {\n",
              "  /* fitted */\n",
              "  background-color: var(--sklearn-color-fitted-level-3);\n",
              "}\n",
              "</style><div id=\"sk-container-id-1\" class=\"sk-top-container\"><div class=\"sk-text-repr-fallback\"><pre>LogisticRegression()</pre><b>In a Jupyter environment, please rerun this cell to show the HTML representation or trust the notebook. <br />On GitHub, the HTML representation is unable to render, please try loading this page with nbviewer.org.</b></div><div class=\"sk-container\" hidden><div class=\"sk-item\"><div class=\"sk-estimator fitted sk-toggleable\"><input class=\"sk-toggleable__control sk-hidden--visually\" id=\"sk-estimator-id-1\" type=\"checkbox\" checked><label for=\"sk-estimator-id-1\" class=\"sk-toggleable__label fitted sk-toggleable__label-arrow\"><div><div>LogisticRegression</div></div><div><a class=\"sk-estimator-doc-link fitted\" rel=\"noreferrer\" target=\"_blank\" href=\"https://scikit-learn.org/1.6/modules/generated/sklearn.linear_model.LogisticRegression.html\">?<span>Documentation for LogisticRegression</span></a><span class=\"sk-estimator-doc-link fitted\">i<span>Fitted</span></span></div></label><div class=\"sk-toggleable__content fitted\"><pre>LogisticRegression()</pre></div> </div></div></div></div>"
            ]
          },
          "metadata": {},
          "execution_count": 29
        }
      ],
      "source": [
        "log_reg = LogisticRegression()\n",
        "log_reg.fit(X_train, y_train)"
      ]
    },
    {
      "cell_type": "markdown",
      "source": [
        "Dengan langkah-langkah sebelumnya saya telah menyiapkan data, membaginya menjadi data pelatihan dan uji, menormalisasi fitur dan melatih model LinearRegression menggunakan data pelatihan. Jadi model yang telah ditrain dapat digunakan untuk membuat prediksi pada data uji"
      ],
      "metadata": {
        "id": "qkXb42Vrt8BO"
      },
      "id": "qkXb42Vrt8BO"
    },
    {
      "cell_type": "markdown",
      "id": "239b2fee",
      "metadata": {
        "id": "239b2fee"
      },
      "source": [
        "#### Prediction dan Evaluation\n"
      ]
    },
    {
      "cell_type": "markdown",
      "id": "e48cd2b3",
      "metadata": {
        "id": "e48cd2b3"
      },
      "source": [
        "Setelah pelatihan, model digunakan untuk membuat prediksi pada set pengujian. Metrik seperti akurasi, confusion matriks, dan laporan klasifikasi digunakan untuk mengevaluasi kinerja model."
      ]
    },
    {
      "cell_type": "code",
      "execution_count": 30,
      "id": "ec3750fb",
      "metadata": {
        "execution": {
          "iopub.execute_input": "2023-06-13T04:38:29.505170Z",
          "iopub.status.busy": "2023-06-13T04:38:29.504117Z",
          "iopub.status.idle": "2023-06-13T04:38:29.508887Z",
          "shell.execute_reply": "2023-06-13T04:38:29.508254Z"
        },
        "id": "ec3750fb",
        "papermill": {
          "duration": 0.020664,
          "end_time": "2023-06-13T04:38:29.511442",
          "exception": false,
          "start_time": "2023-06-13T04:38:29.490778",
          "status": "completed"
        },
        "tags": []
      },
      "outputs": [],
      "source": [
        "# predicating\n",
        "y_predLR = log_reg.predict(X_test)"
      ]
    },
    {
      "cell_type": "markdown",
      "source": [
        "Menggunakan model regresi linear yang telah dilatih (lin_reg), program membuat prediksi kelas untuk data uji (X_test). Hasil prediksi disimpan dalam variabel y_predLR."
      ],
      "metadata": {
        "id": "Anw3VTKkxOQD"
      },
      "id": "Anw3VTKkxOQD"
    },
    {
      "cell_type": "code",
      "source": [
        "# Confusion Metrix\n",
        "metrics.confusion_matrix(y_test, y_predLR)"
      ],
      "metadata": {
        "colab": {
          "base_uri": "https://localhost:8080/"
        },
        "id": "7uBZa3YEaw5V",
        "outputId": "13fa6ec6-0dab-4bfe-8c30-710a626e115c"
      },
      "id": "7uBZa3YEaw5V",
      "execution_count": 31,
      "outputs": [
        {
          "output_type": "execute_result",
          "data": {
            "text/plain": [
              "array([[18117,   180],\n",
              "       [  608,  1095]])"
            ]
          },
          "metadata": {},
          "execution_count": 31
        }
      ]
    },
    {
      "cell_type": "code",
      "source": [
        "y_pred_class = np.round(y_predLR)\n",
        "y_test_class = np.round(y_test)"
      ],
      "metadata": {
        "id": "Yd3mSTyW78-d"
      },
      "id": "Yd3mSTyW78-d",
      "execution_count": 32,
      "outputs": []
    },
    {
      "cell_type": "code",
      "execution_count": 33,
      "id": "224cf07e",
      "metadata": {
        "execution": {
          "iopub.execute_input": "2023-06-13T04:38:29.575256Z",
          "iopub.status.busy": "2023-06-13T04:38:29.574907Z",
          "iopub.status.idle": "2023-06-13T04:38:29.582248Z",
          "shell.execute_reply": "2023-06-13T04:38:29.581592Z"
        },
        "id": "224cf07e",
        "papermill": {
          "duration": 0.024767,
          "end_time": "2023-06-13T04:38:29.586641",
          "exception": false,
          "start_time": "2023-06-13T04:38:29.561874",
          "status": "completed"
        },
        "tags": [],
        "colab": {
          "base_uri": "https://localhost:8080/"
        },
        "outputId": "e8d49b10-70a9-421b-a072-9a6fa22686c7"
      },
      "outputs": [
        {
          "output_type": "execute_result",
          "data": {
            "text/plain": [
              "0.9606"
            ]
          },
          "metadata": {},
          "execution_count": 33
        }
      ],
      "source": [
        "acc_LR = metrics.accuracy_score(y_test, y_predLR)\n",
        "acc_LR"
      ]
    },
    {
      "cell_type": "markdown",
      "source": [
        "Akurasi diukur dengan membandingkan prediksi (y_predLR) dengan label yang sebenarnya dari data uji (y_test). Hasil akurasi disimpan dalam variabel acc_LR.\n",
        "\n",
        "Akurasi dihitung menggunakan rumus: (Jumlah Prediksi Benar) / (Jumlah Total Prediksi). Ini memberikan persentase seberapa banyak prediksi yang benar dari total prediksi."
      ],
      "metadata": {
        "id": "IHvPk_0zxgdM"
      },
      "id": "IHvPk_0zxgdM"
    },
    {
      "cell_type": "markdown",
      "source": [
        "##Mean Squared Error dan Classification Report"
      ],
      "metadata": {
        "id": "zO60FGzOv7lN"
      },
      "id": "zO60FGzOv7lN"
    },
    {
      "cell_type": "code",
      "source": [
        "print(metrics.classification_report(y_test, y_predLR))"
      ],
      "metadata": {
        "colab": {
          "base_uri": "https://localhost:8080/"
        },
        "id": "Ubic3Wf5cXnM",
        "outputId": "f9a07c0b-5b91-4afc-9445-fbd79cb2526c"
      },
      "id": "Ubic3Wf5cXnM",
      "execution_count": 34,
      "outputs": [
        {
          "output_type": "stream",
          "name": "stdout",
          "text": [
            "              precision    recall  f1-score   support\n",
            "\n",
            "           0       0.97      0.99      0.98     18297\n",
            "           1       0.86      0.64      0.74      1703\n",
            "\n",
            "    accuracy                           0.96     20000\n",
            "   macro avg       0.91      0.82      0.86     20000\n",
            "weighted avg       0.96      0.96      0.96     20000\n",
            "\n"
          ]
        }
      ]
    },
    {
      "cell_type": "markdown",
      "source": [
        "untuk menghitung dan menampilkan dua metrik evaluasi, yaitu Mean Squared Error (MSE) dan R-squared (R²), untuk mengukur kinerja model regresi dalam memprediksi nilai target pada data uji (y_test) dibandingkan dengan nilai prediksi model (y_predLR)."
      ],
      "metadata": {
        "id": "ga4KQw5yQ8Zv"
      },
      "id": "ga4KQw5yQ8Zv"
    },
    {
      "cell_type": "markdown",
      "source": [
        "Metrik ini digunakan untuk mengevaluasi performa model regresi:\n",
        "MSE: Memberikan gambaran seberapa besar kesalahan yang dihasilkan oleh model.\n",
        "R²: Memberikan wawasan tentang kemampuan model dalam menjelaskan variansi data target."
      ],
      "metadata": {
        "id": "knmhqrdjRQ1f"
      },
      "id": "knmhqrdjRQ1f"
    },
    {
      "cell_type": "code",
      "source": [
        "fpr, tpr, thres = metrics.roc_curve(y_test, y_predLR)\n",
        "metrics.roc_auc_score(y_test, y_predLR)"
      ],
      "metadata": {
        "colab": {
          "base_uri": "https://localhost:8080/"
        },
        "id": "niQRMk1kcgUl",
        "outputId": "e72e1760-0ee6-4330-a23e-cbd0062f3bb3"
      },
      "id": "niQRMk1kcgUl",
      "execution_count": 35,
      "outputs": [
        {
          "output_type": "execute_result",
          "data": {
            "text/plain": [
              "np.float64(0.8165726464596633)"
            ]
          },
          "metadata": {},
          "execution_count": 35
        }
      ]
    },
    {
      "cell_type": "code",
      "source": [
        "plt.figure(figsize=(6,4))\n",
        "plt.plot(fpr, tpr)\n",
        "plt.title(\"ROC Curve\")\n",
        "plt.xlabel(\"fpr\")\n",
        "plt.ylabel(\"tpr\")"
      ],
      "metadata": {
        "colab": {
          "base_uri": "https://localhost:8080/",
          "height": 427
        },
        "id": "OEZvJcAIckX2",
        "outputId": "30d76030-8f3b-42d3-9ebc-2a423450c0bd"
      },
      "id": "OEZvJcAIckX2",
      "execution_count": 36,
      "outputs": [
        {
          "output_type": "execute_result",
          "data": {
            "text/plain": [
              "Text(0, 0.5, 'tpr')"
            ]
          },
          "metadata": {},
          "execution_count": 36
        },
        {
          "output_type": "display_data",
          "data": {
            "text/plain": [
              "<Figure size 600x400 with 1 Axes>"
            ],
            "image/png": "[encoded data removed]"
          },
          "metadata": {}
        }
      ]
    }
  ],
  "metadata": {
    "colab": {
      "provenance": []
    },
    "kernelspec": {
      "display_name": "Python 3",
      "language": "python",
      "name": "python3"
    },
    "language_info": {
      "codemirror_mode": {
        "name": "ipython",
        "version": 3
      },
      "file_extension": ".py",
      "mimetype": "text/x-python",
      "name": "python",
      "nbconvert_exporter": "python",
      "pygments_lexer": "ipython3",
      "version": "3.11.5"
    },
    "papermill": {
      "default_parameters": {},
      "duration": 15.399886,
      "end_time": "2023-06-13T04:38:31.027033",
      "environment_variables": {},
      "exception": null,
      "input_path": "__notebook__.ipynb",
      "output_path": "__notebook__.ipynb",
      "parameters": {},
      "start_time": "2023-06-13T04:38:15.627147",
      "version": "2.4.0"
    }
  },
  "nbformat": 4,
  "nbformat_minor": 5
}